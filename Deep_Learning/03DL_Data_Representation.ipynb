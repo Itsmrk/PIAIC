{
  "nbformat": 4,
  "nbformat_minor": 0,
  "metadata": {
    "colab": {
      "name": "03DL.Data_Representation.ipynb",
      "provenance": []
    },
    "kernelspec": {
      "name": "python3",
      "display_name": "Python 3"
    }
  },
  "cells": [
    {
      "cell_type": "markdown",
      "metadata": {
        "id": "9FwuDTsljua2",
        "colab_type": "text"
      },
      "source": [
        "# Data Represention for neural network\n",
        "\n",
        "\n",
        "*   nd-Array\n",
        "*   List item\n",
        "\n"
      ]
    },
    {
      "cell_type": "markdown",
      "metadata": {
        "id": "vRVTs_X4kEoW",
        "colab_type": "text"
      },
      "source": [
        "**2.2.1 Scalars (0D tensors)**"
      ]
    },
    {
      "cell_type": "code",
      "metadata": {
        "id": "3u110pjdjsmM",
        "colab_type": "code",
        "colab": {
          "base_uri": "https://localhost:8080/",
          "height": 68
        },
        "outputId": "ff2492cc-96ef-40fa-c258-65fc8008a900"
      },
      "source": [
        "import numpy as np\n",
        "\n",
        "x = np.array(12)\n",
        "print(x)\n",
        "print(x.ndim)\n",
        "print(x.shape)"
      ],
      "execution_count": 3,
      "outputs": [
        {
          "output_type": "stream",
          "text": [
            "12\n",
            "0\n",
            "()\n"
          ],
          "name": "stdout"
        }
      ]
    },
    {
      "cell_type": "markdown",
      "metadata": {
        "id": "5uzBsLMNlI5q",
        "colab_type": "text"
      },
      "source": [
        "**2.2.2 Vectors (1D tensors)**"
      ]
    },
    {
      "cell_type": "code",
      "metadata": {
        "id": "fadO75cTkR7f",
        "colab_type": "code",
        "colab": {
          "base_uri": "https://localhost:8080/",
          "height": 68
        },
        "outputId": "2abfe6da-c5f9-466d-e88c-8aaba27c0fb2"
      },
      "source": [
        "x = np.array([1,2,3,4,5])\n",
        "print(x)\n",
        "print(\"Dimension\",x.ndim)\n",
        "print(\"Shape\",x.shape)"
      ],
      "execution_count": 4,
      "outputs": [
        {
          "output_type": "stream",
          "text": [
            "[1 2 3 4 5]\n",
            "1\n",
            "(5,)\n"
          ],
          "name": "stdout"
        }
      ]
    },
    {
      "cell_type": "markdown",
      "metadata": {
        "id": "BanIv1GlmERv",
        "colab_type": "text"
      },
      "source": [
        "**2.2.3 Matrices (2D tensors)**"
      ]
    },
    {
      "cell_type": "code",
      "metadata": {
        "id": "O3obLOpXkVnu",
        "colab_type": "code",
        "colab": {
          "base_uri": "https://localhost:8080/",
          "height": 102
        },
        "outputId": "cf672ce2-dd6b-4101-f18d-7fcf9484cc37"
      },
      "source": [
        "x = np.array([[5, 78, 2, 34, 0],\n",
        "[6, 79, 3, 35, 1],\n",
        "[7, 80, 4, 36, 2]])\n",
        "print(x)\n",
        "print(\"Dimension\",x.ndim)\n",
        "print(\"Shape\",x.shape)"
      ],
      "execution_count": 5,
      "outputs": [
        {
          "output_type": "stream",
          "text": [
            "[[ 5 78  2 34  0]\n",
            " [ 6 79  3 35  1]\n",
            " [ 7 80  4 36  2]]\n",
            "Dimension 2\n",
            "Shape (3, 5)\n"
          ],
          "name": "stdout"
        }
      ]
    },
    {
      "cell_type": "markdown",
      "metadata": {
        "id": "eX9xPXHcmaSH",
        "colab_type": "text"
      },
      "source": [
        "**2.2.4 3D tensors and higher-dimensional tensors**"
      ]
    },
    {
      "cell_type": "code",
      "metadata": {
        "id": "Nty6uymCmOyd",
        "colab_type": "code",
        "colab": {
          "base_uri": "https://localhost:8080/",
          "height": 238
        },
        "outputId": "04ad9a79-d8b0-470f-d4e1-21caadcd9c1c"
      },
      "source": [
        "x = np.array([[[5, 78, 2, 34, 0],\n",
        "[6, 79, 3, 35, 1],\n",
        "[7, 80, 4, 36, 2]],\n",
        "[[5, 78, 2, 34, 0],\n",
        "[6, 79, 3, 35, 1],\n",
        "[7, 80, 4, 36, 2]],\n",
        "[[5, 78, 2, 34, 0],\n",
        "[6, 79, 3, 35, 1],\n",
        "[7, 80, 4, 36, 2]]])\n",
        "print(x)\n",
        "print(\"Dimension\",x.ndim)\n",
        "print(\"Shape\",x.shape)"
      ],
      "execution_count": 6,
      "outputs": [
        {
          "output_type": "stream",
          "text": [
            "[[[ 5 78  2 34  0]\n",
            "  [ 6 79  3 35  1]\n",
            "  [ 7 80  4 36  2]]\n",
            "\n",
            " [[ 5 78  2 34  0]\n",
            "  [ 6 79  3 35  1]\n",
            "  [ 7 80  4 36  2]]\n",
            "\n",
            " [[ 5 78  2 34  0]\n",
            "  [ 6 79  3 35  1]\n",
            "  [ 7 80  4 36  2]]]\n",
            "Dimension 3\n",
            "Shape (3, 3, 5)\n"
          ],
          "name": "stdout"
        }
      ]
    },
    {
      "cell_type": "code",
      "metadata": {
        "id": "03Uf2QOSmlmJ",
        "colab_type": "code",
        "colab": {
          "base_uri": "https://localhost:8080/",
          "height": 238
        },
        "outputId": "b11cce41-56e3-4d82-93a3-64147683b7d8"
      },
      "source": [
        "x = np.arange(1,46).reshape((3,3,5))\n",
        "print(x)\n",
        "print(\"Dimension\",x.ndim)\n",
        "print(\"Shape\",x.shape)"
      ],
      "execution_count": 7,
      "outputs": [
        {
          "output_type": "stream",
          "text": [
            "[[[ 1  2  3  4  5]\n",
            "  [ 6  7  8  9 10]\n",
            "  [11 12 13 14 15]]\n",
            "\n",
            " [[16 17 18 19 20]\n",
            "  [21 22 23 24 25]\n",
            "  [26 27 28 29 30]]\n",
            "\n",
            " [[31 32 33 34 35]\n",
            "  [36 37 38 39 40]\n",
            "  [41 42 43 44 45]]]\n",
            "Dimension 3\n",
            "Shape (3, 3, 5)\n"
          ],
          "name": "stdout"
        }
      ]
    },
    {
      "cell_type": "code",
      "metadata": {
        "id": "tGq0bcGSnAeo",
        "colab_type": "code",
        "colab": {
          "base_uri": "https://localhost:8080/",
          "height": 510
        },
        "outputId": "ff3c7d24-93a4-4e16-cc08-d8a6b28512b8"
      },
      "source": [
        "x = np.ones((2,2,2,2,2))\n",
        "print(x)\n",
        "print(\"Dimension\",x.ndim)\n",
        "print(\"Shape\",x.shape)"
      ],
      "execution_count": 10,
      "outputs": [
        {
          "output_type": "stream",
          "text": [
            "[[[[[1. 1.]\n",
            "    [1. 1.]]\n",
            "\n",
            "   [[1. 1.]\n",
            "    [1. 1.]]]\n",
            "\n",
            "\n",
            "  [[[1. 1.]\n",
            "    [1. 1.]]\n",
            "\n",
            "   [[1. 1.]\n",
            "    [1. 1.]]]]\n",
            "\n",
            "\n",
            "\n",
            " [[[[1. 1.]\n",
            "    [1. 1.]]\n",
            "\n",
            "   [[1. 1.]\n",
            "    [1. 1.]]]\n",
            "\n",
            "\n",
            "  [[[1. 1.]\n",
            "    [1. 1.]]\n",
            "\n",
            "   [[1. 1.]\n",
            "    [1. 1.]]]]]\n",
            "Dimension 5\n",
            "Shape (2, 2, 2, 2, 2)\n"
          ],
          "name": "stdout"
        }
      ]
    },
    {
      "cell_type": "code",
      "metadata": {
        "id": "60xCJGUAnN6t",
        "colab_type": "code",
        "colab": {}
      },
      "source": [
        ""
      ],
      "execution_count": null,
      "outputs": []
    }
  ]
}