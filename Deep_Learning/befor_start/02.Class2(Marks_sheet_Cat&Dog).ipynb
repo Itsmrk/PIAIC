{
  "nbformat": 4,
  "nbformat_minor": 0,
  "metadata": {
    "colab": {
      "name": "002.DL_Class2(Marks_sheet_Cat&Dog).ipynb",
      "provenance": []
    },
    "kernelspec": {
      "name": "python3",
      "display_name": "Python 3"
    },
    "accelerator": "GPU"
  },
  "cells": [
    {
      "cell_type": "code",
      "metadata": {
        "id": "_onqPJGVBVCU",
        "colab_type": "code",
        "colab": {}
      },
      "source": [
        "import numpy as np\n",
        "import pandas as pd\n",
        "import tensorflow as tf"
      ],
      "execution_count": 0,
      "outputs": []
    },
    {
      "cell_type": "code",
      "metadata": {
        "id": "8pJNca8-CZwE",
        "colab_type": "code",
        "colab": {
          "base_uri": "https://localhost:8080/",
          "height": 204
        },
        "outputId": "980c8dd4-2da1-484c-9a7c-ba1b452565ea"
      },
      "source": [
        "df = pd.DataFrame(np.random.randint(10, 100, size = (20000, 5)), \n",
        "                 columns = [\"s1\", \"s2\", \"s3\", \"s4\", \"s5\"])\n",
        "df.head()"
      ],
      "execution_count": 5,
      "outputs": [
        {
          "output_type": "execute_result",
          "data": {
            "text/html": [
              "<div>\n",
              "<style scoped>\n",
              "    .dataframe tbody tr th:only-of-type {\n",
              "        vertical-align: middle;\n",
              "    }\n",
              "\n",
              "    .dataframe tbody tr th {\n",
              "        vertical-align: top;\n",
              "    }\n",
              "\n",
              "    .dataframe thead th {\n",
              "        text-align: right;\n",
              "    }\n",
              "</style>\n",
              "<table border=\"1\" class=\"dataframe\">\n",
              "  <thead>\n",
              "    <tr style=\"text-align: right;\">\n",
              "      <th></th>\n",
              "      <th>s1</th>\n",
              "      <th>s2</th>\n",
              "      <th>s3</th>\n",
              "      <th>s4</th>\n",
              "      <th>s5</th>\n",
              "    </tr>\n",
              "  </thead>\n",
              "  <tbody>\n",
              "    <tr>\n",
              "      <th>0</th>\n",
              "      <td>52</td>\n",
              "      <td>61</td>\n",
              "      <td>82</td>\n",
              "      <td>98</td>\n",
              "      <td>63</td>\n",
              "    </tr>\n",
              "    <tr>\n",
              "      <th>1</th>\n",
              "      <td>35</td>\n",
              "      <td>33</td>\n",
              "      <td>67</td>\n",
              "      <td>87</td>\n",
              "      <td>22</td>\n",
              "    </tr>\n",
              "    <tr>\n",
              "      <th>2</th>\n",
              "      <td>42</td>\n",
              "      <td>28</td>\n",
              "      <td>66</td>\n",
              "      <td>25</td>\n",
              "      <td>41</td>\n",
              "    </tr>\n",
              "    <tr>\n",
              "      <th>3</th>\n",
              "      <td>61</td>\n",
              "      <td>72</td>\n",
              "      <td>71</td>\n",
              "      <td>77</td>\n",
              "      <td>75</td>\n",
              "    </tr>\n",
              "    <tr>\n",
              "      <th>4</th>\n",
              "      <td>70</td>\n",
              "      <td>99</td>\n",
              "      <td>58</td>\n",
              "      <td>97</td>\n",
              "      <td>24</td>\n",
              "    </tr>\n",
              "  </tbody>\n",
              "</table>\n",
              "</div>"
            ],
            "text/plain": [
              "   s1  s2  s3  s4  s5\n",
              "0  52  61  82  98  63\n",
              "1  35  33  67  87  22\n",
              "2  42  28  66  25  41\n",
              "3  61  72  71  77  75\n",
              "4  70  99  58  97  24"
            ]
          },
          "metadata": {
            "tags": []
          },
          "execution_count": 5
        }
      ]
    },
    {
      "cell_type": "code",
      "metadata": {
        "id": "CqcuDNzeFssL",
        "colab_type": "code",
        "colab": {
          "base_uri": "https://localhost:8080/",
          "height": 204
        },
        "outputId": "c5337eaa-98fe-4fc7-fa9f-741f5952f617"
      },
      "source": [
        "# 1st way\n",
        "df['obtained'] = df.loc[:,'s1':'s5'].apply(lambda x:np.sum(x),axis=1)\n",
        "df.head()"
      ],
      "execution_count": 6,
      "outputs": [
        {
          "output_type": "execute_result",
          "data": {
            "text/html": [
              "<div>\n",
              "<style scoped>\n",
              "    .dataframe tbody tr th:only-of-type {\n",
              "        vertical-align: middle;\n",
              "    }\n",
              "\n",
              "    .dataframe tbody tr th {\n",
              "        vertical-align: top;\n",
              "    }\n",
              "\n",
              "    .dataframe thead th {\n",
              "        text-align: right;\n",
              "    }\n",
              "</style>\n",
              "<table border=\"1\" class=\"dataframe\">\n",
              "  <thead>\n",
              "    <tr style=\"text-align: right;\">\n",
              "      <th></th>\n",
              "      <th>s1</th>\n",
              "      <th>s2</th>\n",
              "      <th>s3</th>\n",
              "      <th>s4</th>\n",
              "      <th>s5</th>\n",
              "      <th>obtained</th>\n",
              "    </tr>\n",
              "  </thead>\n",
              "  <tbody>\n",
              "    <tr>\n",
              "      <th>0</th>\n",
              "      <td>52</td>\n",
              "      <td>61</td>\n",
              "      <td>82</td>\n",
              "      <td>98</td>\n",
              "      <td>63</td>\n",
              "      <td>356</td>\n",
              "    </tr>\n",
              "    <tr>\n",
              "      <th>1</th>\n",
              "      <td>35</td>\n",
              "      <td>33</td>\n",
              "      <td>67</td>\n",
              "      <td>87</td>\n",
              "      <td>22</td>\n",
              "      <td>244</td>\n",
              "    </tr>\n",
              "    <tr>\n",
              "      <th>2</th>\n",
              "      <td>42</td>\n",
              "      <td>28</td>\n",
              "      <td>66</td>\n",
              "      <td>25</td>\n",
              "      <td>41</td>\n",
              "      <td>202</td>\n",
              "    </tr>\n",
              "    <tr>\n",
              "      <th>3</th>\n",
              "      <td>61</td>\n",
              "      <td>72</td>\n",
              "      <td>71</td>\n",
              "      <td>77</td>\n",
              "      <td>75</td>\n",
              "      <td>356</td>\n",
              "    </tr>\n",
              "    <tr>\n",
              "      <th>4</th>\n",
              "      <td>70</td>\n",
              "      <td>99</td>\n",
              "      <td>58</td>\n",
              "      <td>97</td>\n",
              "      <td>24</td>\n",
              "      <td>348</td>\n",
              "    </tr>\n",
              "  </tbody>\n",
              "</table>\n",
              "</div>"
            ],
            "text/plain": [
              "   s1  s2  s3  s4  s5  obtained\n",
              "0  52  61  82  98  63       356\n",
              "1  35  33  67  87  22       244\n",
              "2  42  28  66  25  41       202\n",
              "3  61  72  71  77  75       356\n",
              "4  70  99  58  97  24       348"
            ]
          },
          "metadata": {
            "tags": []
          },
          "execution_count": 6
        }
      ]
    },
    {
      "cell_type": "code",
      "metadata": {
        "id": "E2-SDgq9J8-9",
        "colab_type": "code",
        "colab": {
          "base_uri": "https://localhost:8080/",
          "height": 204
        },
        "outputId": "bf4bf62f-0dbb-40a2-957a-a5b147ba2d30"
      },
      "source": [
        "df['obtained'] = df.s1 + df.s2 + df.s3 + df.s4 + df.s5\n",
        "df.head()"
      ],
      "execution_count": 7,
      "outputs": [
        {
          "output_type": "execute_result",
          "data": {
            "text/html": [
              "<div>\n",
              "<style scoped>\n",
              "    .dataframe tbody tr th:only-of-type {\n",
              "        vertical-align: middle;\n",
              "    }\n",
              "\n",
              "    .dataframe tbody tr th {\n",
              "        vertical-align: top;\n",
              "    }\n",
              "\n",
              "    .dataframe thead th {\n",
              "        text-align: right;\n",
              "    }\n",
              "</style>\n",
              "<table border=\"1\" class=\"dataframe\">\n",
              "  <thead>\n",
              "    <tr style=\"text-align: right;\">\n",
              "      <th></th>\n",
              "      <th>s1</th>\n",
              "      <th>s2</th>\n",
              "      <th>s3</th>\n",
              "      <th>s4</th>\n",
              "      <th>s5</th>\n",
              "      <th>obtained</th>\n",
              "    </tr>\n",
              "  </thead>\n",
              "  <tbody>\n",
              "    <tr>\n",
              "      <th>0</th>\n",
              "      <td>52</td>\n",
              "      <td>61</td>\n",
              "      <td>82</td>\n",
              "      <td>98</td>\n",
              "      <td>63</td>\n",
              "      <td>356</td>\n",
              "    </tr>\n",
              "    <tr>\n",
              "      <th>1</th>\n",
              "      <td>35</td>\n",
              "      <td>33</td>\n",
              "      <td>67</td>\n",
              "      <td>87</td>\n",
              "      <td>22</td>\n",
              "      <td>244</td>\n",
              "    </tr>\n",
              "    <tr>\n",
              "      <th>2</th>\n",
              "      <td>42</td>\n",
              "      <td>28</td>\n",
              "      <td>66</td>\n",
              "      <td>25</td>\n",
              "      <td>41</td>\n",
              "      <td>202</td>\n",
              "    </tr>\n",
              "    <tr>\n",
              "      <th>3</th>\n",
              "      <td>61</td>\n",
              "      <td>72</td>\n",
              "      <td>71</td>\n",
              "      <td>77</td>\n",
              "      <td>75</td>\n",
              "      <td>356</td>\n",
              "    </tr>\n",
              "    <tr>\n",
              "      <th>4</th>\n",
              "      <td>70</td>\n",
              "      <td>99</td>\n",
              "      <td>58</td>\n",
              "      <td>97</td>\n",
              "      <td>24</td>\n",
              "      <td>348</td>\n",
              "    </tr>\n",
              "  </tbody>\n",
              "</table>\n",
              "</div>"
            ],
            "text/plain": [
              "   s1  s2  s3  s4  s5  obtained\n",
              "0  52  61  82  98  63       356\n",
              "1  35  33  67  87  22       244\n",
              "2  42  28  66  25  41       202\n",
              "3  61  72  71  77  75       356\n",
              "4  70  99  58  97  24       348"
            ]
          },
          "metadata": {
            "tags": []
          },
          "execution_count": 7
        }
      ]
    },
    {
      "cell_type": "code",
      "metadata": {
        "id": "JFJlDV9EKDH5",
        "colab_type": "code",
        "colab": {
          "base_uri": "https://localhost:8080/",
          "height": 204
        },
        "outputId": "88bdc0f0-7e07-4c95-c760-9c8e9c440b9c"
      },
      "source": [
        "# Third way\n",
        "df['obtained'] = df.loc[:,'s1':'s5'].apply(sum, axis = 1)\n",
        "df.head()"
      ],
      "execution_count": 8,
      "outputs": [
        {
          "output_type": "execute_result",
          "data": {
            "text/html": [
              "<div>\n",
              "<style scoped>\n",
              "    .dataframe tbody tr th:only-of-type {\n",
              "        vertical-align: middle;\n",
              "    }\n",
              "\n",
              "    .dataframe tbody tr th {\n",
              "        vertical-align: top;\n",
              "    }\n",
              "\n",
              "    .dataframe thead th {\n",
              "        text-align: right;\n",
              "    }\n",
              "</style>\n",
              "<table border=\"1\" class=\"dataframe\">\n",
              "  <thead>\n",
              "    <tr style=\"text-align: right;\">\n",
              "      <th></th>\n",
              "      <th>s1</th>\n",
              "      <th>s2</th>\n",
              "      <th>s3</th>\n",
              "      <th>s4</th>\n",
              "      <th>s5</th>\n",
              "      <th>obtained</th>\n",
              "    </tr>\n",
              "  </thead>\n",
              "  <tbody>\n",
              "    <tr>\n",
              "      <th>0</th>\n",
              "      <td>52</td>\n",
              "      <td>61</td>\n",
              "      <td>82</td>\n",
              "      <td>98</td>\n",
              "      <td>63</td>\n",
              "      <td>356</td>\n",
              "    </tr>\n",
              "    <tr>\n",
              "      <th>1</th>\n",
              "      <td>35</td>\n",
              "      <td>33</td>\n",
              "      <td>67</td>\n",
              "      <td>87</td>\n",
              "      <td>22</td>\n",
              "      <td>244</td>\n",
              "    </tr>\n",
              "    <tr>\n",
              "      <th>2</th>\n",
              "      <td>42</td>\n",
              "      <td>28</td>\n",
              "      <td>66</td>\n",
              "      <td>25</td>\n",
              "      <td>41</td>\n",
              "      <td>202</td>\n",
              "    </tr>\n",
              "    <tr>\n",
              "      <th>3</th>\n",
              "      <td>61</td>\n",
              "      <td>72</td>\n",
              "      <td>71</td>\n",
              "      <td>77</td>\n",
              "      <td>75</td>\n",
              "      <td>356</td>\n",
              "    </tr>\n",
              "    <tr>\n",
              "      <th>4</th>\n",
              "      <td>70</td>\n",
              "      <td>99</td>\n",
              "      <td>58</td>\n",
              "      <td>97</td>\n",
              "      <td>24</td>\n",
              "      <td>348</td>\n",
              "    </tr>\n",
              "  </tbody>\n",
              "</table>\n",
              "</div>"
            ],
            "text/plain": [
              "   s1  s2  s3  s4  s5  obtained\n",
              "0  52  61  82  98  63       356\n",
              "1  35  33  67  87  22       244\n",
              "2  42  28  66  25  41       202\n",
              "3  61  72  71  77  75       356\n",
              "4  70  99  58  97  24       348"
            ]
          },
          "metadata": {
            "tags": []
          },
          "execution_count": 8
        }
      ]
    },
    {
      "cell_type": "code",
      "metadata": {
        "id": "h_7BkDB7KJO-",
        "colab_type": "code",
        "colab": {
          "base_uri": "https://localhost:8080/",
          "height": 204
        },
        "outputId": "f8a8d440-1a71-4a57-e7bd-d46538801001"
      },
      "source": [
        "def cal_sum(*x):\n",
        "    return np.sum(x)\n",
        "df['obtained'] = df.loc[:,'s1':'s5'].apply(lambda x:np.sum(x), axis = 1)\n",
        "df.head()"
      ],
      "execution_count": 9,
      "outputs": [
        {
          "output_type": "execute_result",
          "data": {
            "text/html": [
              "<div>\n",
              "<style scoped>\n",
              "    .dataframe tbody tr th:only-of-type {\n",
              "        vertical-align: middle;\n",
              "    }\n",
              "\n",
              "    .dataframe tbody tr th {\n",
              "        vertical-align: top;\n",
              "    }\n",
              "\n",
              "    .dataframe thead th {\n",
              "        text-align: right;\n",
              "    }\n",
              "</style>\n",
              "<table border=\"1\" class=\"dataframe\">\n",
              "  <thead>\n",
              "    <tr style=\"text-align: right;\">\n",
              "      <th></th>\n",
              "      <th>s1</th>\n",
              "      <th>s2</th>\n",
              "      <th>s3</th>\n",
              "      <th>s4</th>\n",
              "      <th>s5</th>\n",
              "      <th>obtained</th>\n",
              "    </tr>\n",
              "  </thead>\n",
              "  <tbody>\n",
              "    <tr>\n",
              "      <th>0</th>\n",
              "      <td>52</td>\n",
              "      <td>61</td>\n",
              "      <td>82</td>\n",
              "      <td>98</td>\n",
              "      <td>63</td>\n",
              "      <td>356</td>\n",
              "    </tr>\n",
              "    <tr>\n",
              "      <th>1</th>\n",
              "      <td>35</td>\n",
              "      <td>33</td>\n",
              "      <td>67</td>\n",
              "      <td>87</td>\n",
              "      <td>22</td>\n",
              "      <td>244</td>\n",
              "    </tr>\n",
              "    <tr>\n",
              "      <th>2</th>\n",
              "      <td>42</td>\n",
              "      <td>28</td>\n",
              "      <td>66</td>\n",
              "      <td>25</td>\n",
              "      <td>41</td>\n",
              "      <td>202</td>\n",
              "    </tr>\n",
              "    <tr>\n",
              "      <th>3</th>\n",
              "      <td>61</td>\n",
              "      <td>72</td>\n",
              "      <td>71</td>\n",
              "      <td>77</td>\n",
              "      <td>75</td>\n",
              "      <td>356</td>\n",
              "    </tr>\n",
              "    <tr>\n",
              "      <th>4</th>\n",
              "      <td>70</td>\n",
              "      <td>99</td>\n",
              "      <td>58</td>\n",
              "      <td>97</td>\n",
              "      <td>24</td>\n",
              "      <td>348</td>\n",
              "    </tr>\n",
              "  </tbody>\n",
              "</table>\n",
              "</div>"
            ],
            "text/plain": [
              "   s1  s2  s3  s4  s5  obtained\n",
              "0  52  61  82  98  63       356\n",
              "1  35  33  67  87  22       244\n",
              "2  42  28  66  25  41       202\n",
              "3  61  72  71  77  75       356\n",
              "4  70  99  58  97  24       348"
            ]
          },
          "metadata": {
            "tags": []
          },
          "execution_count": 9
        }
      ]
    },
    {
      "cell_type": "code",
      "metadata": {
        "id": "RAJEqbwMJisW",
        "colab_type": "code",
        "colab": {
          "base_uri": "https://localhost:8080/",
          "height": 204
        },
        "outputId": "a5a7ae1e-4798-4658-c11e-f02469ac732f"
      },
      "source": [
        "df['Total'] = 500\n",
        "df.head()"
      ],
      "execution_count": 10,
      "outputs": [
        {
          "output_type": "execute_result",
          "data": {
            "text/html": [
              "<div>\n",
              "<style scoped>\n",
              "    .dataframe tbody tr th:only-of-type {\n",
              "        vertical-align: middle;\n",
              "    }\n",
              "\n",
              "    .dataframe tbody tr th {\n",
              "        vertical-align: top;\n",
              "    }\n",
              "\n",
              "    .dataframe thead th {\n",
              "        text-align: right;\n",
              "    }\n",
              "</style>\n",
              "<table border=\"1\" class=\"dataframe\">\n",
              "  <thead>\n",
              "    <tr style=\"text-align: right;\">\n",
              "      <th></th>\n",
              "      <th>s1</th>\n",
              "      <th>s2</th>\n",
              "      <th>s3</th>\n",
              "      <th>s4</th>\n",
              "      <th>s5</th>\n",
              "      <th>obtained</th>\n",
              "      <th>Total</th>\n",
              "    </tr>\n",
              "  </thead>\n",
              "  <tbody>\n",
              "    <tr>\n",
              "      <th>0</th>\n",
              "      <td>52</td>\n",
              "      <td>61</td>\n",
              "      <td>82</td>\n",
              "      <td>98</td>\n",
              "      <td>63</td>\n",
              "      <td>356</td>\n",
              "      <td>500</td>\n",
              "    </tr>\n",
              "    <tr>\n",
              "      <th>1</th>\n",
              "      <td>35</td>\n",
              "      <td>33</td>\n",
              "      <td>67</td>\n",
              "      <td>87</td>\n",
              "      <td>22</td>\n",
              "      <td>244</td>\n",
              "      <td>500</td>\n",
              "    </tr>\n",
              "    <tr>\n",
              "      <th>2</th>\n",
              "      <td>42</td>\n",
              "      <td>28</td>\n",
              "      <td>66</td>\n",
              "      <td>25</td>\n",
              "      <td>41</td>\n",
              "      <td>202</td>\n",
              "      <td>500</td>\n",
              "    </tr>\n",
              "    <tr>\n",
              "      <th>3</th>\n",
              "      <td>61</td>\n",
              "      <td>72</td>\n",
              "      <td>71</td>\n",
              "      <td>77</td>\n",
              "      <td>75</td>\n",
              "      <td>356</td>\n",
              "      <td>500</td>\n",
              "    </tr>\n",
              "    <tr>\n",
              "      <th>4</th>\n",
              "      <td>70</td>\n",
              "      <td>99</td>\n",
              "      <td>58</td>\n",
              "      <td>97</td>\n",
              "      <td>24</td>\n",
              "      <td>348</td>\n",
              "      <td>500</td>\n",
              "    </tr>\n",
              "  </tbody>\n",
              "</table>\n",
              "</div>"
            ],
            "text/plain": [
              "   s1  s2  s3  s4  s5  obtained  Total\n",
              "0  52  61  82  98  63       356    500\n",
              "1  35  33  67  87  22       244    500\n",
              "2  42  28  66  25  41       202    500\n",
              "3  61  72  71  77  75       356    500\n",
              "4  70  99  58  97  24       348    500"
            ]
          },
          "metadata": {
            "tags": []
          },
          "execution_count": 10
        }
      ]
    },
    {
      "cell_type": "code",
      "metadata": {
        "id": "-_4nTAZiHV3Q",
        "colab_type": "code",
        "colab": {
          "base_uri": "https://localhost:8080/",
          "height": 204
        },
        "outputId": "fdedcef9-073b-4a7d-9240-6dd39b9738f9"
      },
      "source": [
        "df['percentage'] = df.obtained / df.Total * 100\n",
        "df.head()"
      ],
      "execution_count": 12,
      "outputs": [
        {
          "output_type": "execute_result",
          "data": {
            "text/html": [
              "<div>\n",
              "<style scoped>\n",
              "    .dataframe tbody tr th:only-of-type {\n",
              "        vertical-align: middle;\n",
              "    }\n",
              "\n",
              "    .dataframe tbody tr th {\n",
              "        vertical-align: top;\n",
              "    }\n",
              "\n",
              "    .dataframe thead th {\n",
              "        text-align: right;\n",
              "    }\n",
              "</style>\n",
              "<table border=\"1\" class=\"dataframe\">\n",
              "  <thead>\n",
              "    <tr style=\"text-align: right;\">\n",
              "      <th></th>\n",
              "      <th>s1</th>\n",
              "      <th>s2</th>\n",
              "      <th>s3</th>\n",
              "      <th>s4</th>\n",
              "      <th>s5</th>\n",
              "      <th>obtained</th>\n",
              "      <th>Total</th>\n",
              "      <th>percentage</th>\n",
              "    </tr>\n",
              "  </thead>\n",
              "  <tbody>\n",
              "    <tr>\n",
              "      <th>0</th>\n",
              "      <td>52</td>\n",
              "      <td>61</td>\n",
              "      <td>82</td>\n",
              "      <td>98</td>\n",
              "      <td>63</td>\n",
              "      <td>356</td>\n",
              "      <td>500</td>\n",
              "      <td>71.2</td>\n",
              "    </tr>\n",
              "    <tr>\n",
              "      <th>1</th>\n",
              "      <td>35</td>\n",
              "      <td>33</td>\n",
              "      <td>67</td>\n",
              "      <td>87</td>\n",
              "      <td>22</td>\n",
              "      <td>244</td>\n",
              "      <td>500</td>\n",
              "      <td>48.8</td>\n",
              "    </tr>\n",
              "    <tr>\n",
              "      <th>2</th>\n",
              "      <td>42</td>\n",
              "      <td>28</td>\n",
              "      <td>66</td>\n",
              "      <td>25</td>\n",
              "      <td>41</td>\n",
              "      <td>202</td>\n",
              "      <td>500</td>\n",
              "      <td>40.4</td>\n",
              "    </tr>\n",
              "    <tr>\n",
              "      <th>3</th>\n",
              "      <td>61</td>\n",
              "      <td>72</td>\n",
              "      <td>71</td>\n",
              "      <td>77</td>\n",
              "      <td>75</td>\n",
              "      <td>356</td>\n",
              "      <td>500</td>\n",
              "      <td>71.2</td>\n",
              "    </tr>\n",
              "    <tr>\n",
              "      <th>4</th>\n",
              "      <td>70</td>\n",
              "      <td>99</td>\n",
              "      <td>58</td>\n",
              "      <td>97</td>\n",
              "      <td>24</td>\n",
              "      <td>348</td>\n",
              "      <td>500</td>\n",
              "      <td>69.6</td>\n",
              "    </tr>\n",
              "  </tbody>\n",
              "</table>\n",
              "</div>"
            ],
            "text/plain": [
              "   s1  s2  s3  s4  s5  obtained  Total  percentage\n",
              "0  52  61  82  98  63       356    500        71.2\n",
              "1  35  33  67  87  22       244    500        48.8\n",
              "2  42  28  66  25  41       202    500        40.4\n",
              "3  61  72  71  77  75       356    500        71.2\n",
              "4  70  99  58  97  24       348    500        69.6"
            ]
          },
          "metadata": {
            "tags": []
          },
          "execution_count": 12
        }
      ]
    },
    {
      "cell_type": "markdown",
      "metadata": {
        "id": "tLu8f4VSHx7d",
        "colab_type": "text"
      },
      "source": [
        "# Calculate Grade with Rule base programming \n",
        "# Symbolic AI\n",
        "# Traditional Programming"
      ]
    },
    {
      "cell_type": "code",
      "metadata": {
        "id": "D2lfNSECHiTA",
        "colab_type": "code",
        "colab": {
          "base_uri": "https://localhost:8080/",
          "height": 204
        },
        "outputId": "d50e80fb-bc4f-466c-cc07-e3808c96c863"
      },
      "source": [
        "#Define Rule(Always defined by human(programmer))\n",
        "def grade(x):\n",
        "  if x>= 80:\n",
        "    return \"A+\"\n",
        "  elif x>= 70:\n",
        "    return \"A\"\n",
        "  elif x>= 60:\n",
        "    return \"B\"\n",
        "  elif x>= 50:\n",
        "    return \"C\"\n",
        "  elif x>= 40:\n",
        "    return \"D\"\n",
        "  elif x>= 33:\n",
        "    return \"E\"\n",
        "  else:\n",
        "    return \"Fail\"\n",
        "df['Grade'] = df.percentage.apply(grade)\n",
        "df.head()"
      ],
      "execution_count": 13,
      "outputs": [
        {
          "output_type": "execute_result",
          "data": {
            "text/html": [
              "<div>\n",
              "<style scoped>\n",
              "    .dataframe tbody tr th:only-of-type {\n",
              "        vertical-align: middle;\n",
              "    }\n",
              "\n",
              "    .dataframe tbody tr th {\n",
              "        vertical-align: top;\n",
              "    }\n",
              "\n",
              "    .dataframe thead th {\n",
              "        text-align: right;\n",
              "    }\n",
              "</style>\n",
              "<table border=\"1\" class=\"dataframe\">\n",
              "  <thead>\n",
              "    <tr style=\"text-align: right;\">\n",
              "      <th></th>\n",
              "      <th>s1</th>\n",
              "      <th>s2</th>\n",
              "      <th>s3</th>\n",
              "      <th>s4</th>\n",
              "      <th>s5</th>\n",
              "      <th>obtained</th>\n",
              "      <th>Total</th>\n",
              "      <th>percentage</th>\n",
              "      <th>Grade</th>\n",
              "    </tr>\n",
              "  </thead>\n",
              "  <tbody>\n",
              "    <tr>\n",
              "      <th>0</th>\n",
              "      <td>52</td>\n",
              "      <td>61</td>\n",
              "      <td>82</td>\n",
              "      <td>98</td>\n",
              "      <td>63</td>\n",
              "      <td>356</td>\n",
              "      <td>500</td>\n",
              "      <td>71.2</td>\n",
              "      <td>A</td>\n",
              "    </tr>\n",
              "    <tr>\n",
              "      <th>1</th>\n",
              "      <td>35</td>\n",
              "      <td>33</td>\n",
              "      <td>67</td>\n",
              "      <td>87</td>\n",
              "      <td>22</td>\n",
              "      <td>244</td>\n",
              "      <td>500</td>\n",
              "      <td>48.8</td>\n",
              "      <td>D</td>\n",
              "    </tr>\n",
              "    <tr>\n",
              "      <th>2</th>\n",
              "      <td>42</td>\n",
              "      <td>28</td>\n",
              "      <td>66</td>\n",
              "      <td>25</td>\n",
              "      <td>41</td>\n",
              "      <td>202</td>\n",
              "      <td>500</td>\n",
              "      <td>40.4</td>\n",
              "      <td>D</td>\n",
              "    </tr>\n",
              "    <tr>\n",
              "      <th>3</th>\n",
              "      <td>61</td>\n",
              "      <td>72</td>\n",
              "      <td>71</td>\n",
              "      <td>77</td>\n",
              "      <td>75</td>\n",
              "      <td>356</td>\n",
              "      <td>500</td>\n",
              "      <td>71.2</td>\n",
              "      <td>A</td>\n",
              "    </tr>\n",
              "    <tr>\n",
              "      <th>4</th>\n",
              "      <td>70</td>\n",
              "      <td>99</td>\n",
              "      <td>58</td>\n",
              "      <td>97</td>\n",
              "      <td>24</td>\n",
              "      <td>348</td>\n",
              "      <td>500</td>\n",
              "      <td>69.6</td>\n",
              "      <td>B</td>\n",
              "    </tr>\n",
              "  </tbody>\n",
              "</table>\n",
              "</div>"
            ],
            "text/plain": [
              "   s1  s2  s3  s4  s5  obtained  Total  percentage Grade\n",
              "0  52  61  82  98  63       356    500        71.2     A\n",
              "1  35  33  67  87  22       244    500        48.8     D\n",
              "2  42  28  66  25  41       202    500        40.4     D\n",
              "3  61  72  71  77  75       356    500        71.2     A\n",
              "4  70  99  58  97  24       348    500        69.6     B"
            ]
          },
          "metadata": {
            "tags": []
          },
          "execution_count": 13
        }
      ]
    },
    {
      "cell_type": "code",
      "metadata": {
        "id": "Kn6XVIpYI3IX",
        "colab_type": "code",
        "colab": {
          "base_uri": "https://localhost:8080/",
          "height": 153
        },
        "outputId": "29712455-fe07-4cc7-dc49-b30d6e6d4244"
      },
      "source": [
        "df.Grade.value_counts()"
      ],
      "execution_count": 14,
      "outputs": [
        {
          "output_type": "execute_result",
          "data": {
            "text/plain": [
              "C       6503\n",
              "D       4849\n",
              "B       4648\n",
              "A       1585\n",
              "E       1552\n",
              "Fail     592\n",
              "A+       271\n",
              "Name: Grade, dtype: int64"
            ]
          },
          "metadata": {
            "tags": []
          },
          "execution_count": 14
        }
      ]
    },
    {
      "cell_type": "code",
      "metadata": {
        "id": "lA-l7gAWJmni",
        "colab_type": "code",
        "colab": {
          "base_uri": "https://localhost:8080/",
          "height": 329
        },
        "outputId": "06948316-ce76-4111-fe8c-ddd32b1dd648"
      },
      "source": [
        "df.corr().plot(kind = 'bar')"
      ],
      "execution_count": 15,
      "outputs": [
        {
          "output_type": "execute_result",
          "data": {
            "text/plain": [
              "<matplotlib.axes._subplots.AxesSubplot at 0x7fd9a9ab3d30>"
            ]
          },
          "metadata": {
            "tags": []
          },
          "execution_count": 15
        },
        {
          "output_type": "display_data",
          "data": {
            "image/png": "[encoded data removed]",
            "text/plain": [
              "<Figure size 432x288 with 1 Axes>"
            ]
          },
          "metadata": {
            "tags": [],
            "needs_background": "light"
          }
        }
      ]
    },
    {
      "cell_type": "code",
      "metadata": {
        "id": "eOvTN_SDKi-y",
        "colab_type": "code",
        "colab": {
          "base_uri": "https://localhost:8080/",
          "height": 34
        },
        "outputId": "4118d769-a102-404a-d2c0-17e717211aba"
      },
      "source": [
        "df.Grade.unique()"
      ],
      "execution_count": 16,
      "outputs": [
        {
          "output_type": "execute_result",
          "data": {
            "text/plain": [
              "array(['A', 'D', 'B', 'C', 'E', 'A+', 'Fail'], dtype=object)"
            ]
          },
          "metadata": {
            "tags": []
          },
          "execution_count": 16
        }
      ]
    },
    {
      "cell_type": "code",
      "metadata": {
        "id": "Fl145btsK0Ej",
        "colab_type": "code",
        "colab": {
          "base_uri": "https://localhost:8080/",
          "height": 129
        },
        "outputId": "86aa2506-bc07-40ab-b82c-35b917e4dd9a"
      },
      "source": [
        "dic = {v:k for k,v in enumerate(df.Grade.unique())}\n",
        "  dic"
      ],
      "execution_count": 18,
      "outputs": [
        {
          "output_type": "error",
          "ename": "IndentationError",
          "evalue": "ignored",
          "traceback": [
            "\u001b[0;36m  File \u001b[0;32m\"<ipython-input-18-010ef31e261c>\"\u001b[0;36m, line \u001b[0;32m2\u001b[0m\n\u001b[0;31m    dic\u001b[0m\n\u001b[0m    ^\u001b[0m\n\u001b[0;31mIndentationError\u001b[0m\u001b[0;31m:\u001b[0m unexpected indent\n"
          ]
        }
      ]
    },
    {
      "cell_type": "code",
      "metadata": {
        "id": "VQeTXw9xLBIm",
        "colab_type": "code",
        "colab": {
          "base_uri": "https://localhost:8080/",
          "height": 34
        },
        "outputId": "0599847d-9fdf-4abe-b321-80c1179a2cfb"
      },
      "source": [
        "dic ={\n",
        "    \"A+\" : 7,\n",
        "    \"A\" : 6,\n",
        "    \"C\" : 4,\n",
        "    \"D\" : 3,\n",
        "    \"E\" : 2,\n",
        "    \"Fail\" : 1\n",
        "    }\n",
        "dic\n"
      ],
      "execution_count": 20,
      "outputs": [
        {
          "output_type": "execute_result",
          "data": {
            "text/plain": [
              "{'A': 6, 'A+': 7, 'C': 4, 'D': 3, 'E': 2, 'Fail': 1}"
            ]
          },
          "metadata": {
            "tags": []
          },
          "execution_count": 20
        }
      ]
    },
    {
      "cell_type": "code",
      "metadata": {
        "id": "C2A7CgdXLn1P",
        "colab_type": "code",
        "colab": {}
      },
      "source": [
        "df[\"Grade1\"] = df.Grade.map(dic)"
      ],
      "execution_count": 0,
      "outputs": []
    },
    {
      "cell_type": "code",
      "metadata": {
        "id": "wRz0csRVLxF_",
        "colab_type": "code",
        "colab": {
          "base_uri": "https://localhost:8080/",
          "height": 329
        },
        "outputId": "409ac167-0c93-4688-8111-72b1f447c5ae"
      },
      "source": [
        "df.corr().plot(kind = 'bar')"
      ],
      "execution_count": 28,
      "outputs": [
        {
          "output_type": "execute_result",
          "data": {
            "text/plain": [
              "<matplotlib.axes._subplots.AxesSubplot at 0x7fd9a932bb38>"
            ]
          },
          "metadata": {
            "tags": []
          },
          "execution_count": 28
        },
        {
          "output_type": "display_data",
          "data": {
            "image/png": "[encoded data removed]",
            "text/plain": [
              "<Figure size 432x288 with 1 Axes>"
            ]
          },
          "metadata": {
            "tags": [],
            "needs_background": "light"
          }
        }
      ]
    },
    {
      "cell_type": "code",
      "metadata": {
        "id": "0XlAD4gSMFpS",
        "colab_type": "code",
        "colab": {
          "base_uri": "https://localhost:8080/",
          "height": 204
        },
        "outputId": "d27961a9-4764-4d84-d7d5-74ee0285db11"
      },
      "source": [
        "df1 =df[[\"s1\", \"s2\", \"s3\", \"s4\", \"s5\",\"Grade\"]]\n",
        "df1.head()"
      ],
      "execution_count": 33,
      "outputs": [
        {
          "output_type": "execute_result",
          "data": {
            "text/html": [
              "<div>\n",
              "<style scoped>\n",
              "    .dataframe tbody tr th:only-of-type {\n",
              "        vertical-align: middle;\n",
              "    }\n",
              "\n",
              "    .dataframe tbody tr th {\n",
              "        vertical-align: top;\n",
              "    }\n",
              "\n",
              "    .dataframe thead th {\n",
              "        text-align: right;\n",
              "    }\n",
              "</style>\n",
              "<table border=\"1\" class=\"dataframe\">\n",
              "  <thead>\n",
              "    <tr style=\"text-align: right;\">\n",
              "      <th></th>\n",
              "      <th>s1</th>\n",
              "      <th>s2</th>\n",
              "      <th>s3</th>\n",
              "      <th>s4</th>\n",
              "      <th>s5</th>\n",
              "      <th>Grade</th>\n",
              "    </tr>\n",
              "  </thead>\n",
              "  <tbody>\n",
              "    <tr>\n",
              "      <th>0</th>\n",
              "      <td>52</td>\n",
              "      <td>61</td>\n",
              "      <td>82</td>\n",
              "      <td>98</td>\n",
              "      <td>63</td>\n",
              "      <td>A</td>\n",
              "    </tr>\n",
              "    <tr>\n",
              "      <th>1</th>\n",
              "      <td>35</td>\n",
              "      <td>33</td>\n",
              "      <td>67</td>\n",
              "      <td>87</td>\n",
              "      <td>22</td>\n",
              "      <td>D</td>\n",
              "    </tr>\n",
              "    <tr>\n",
              "      <th>2</th>\n",
              "      <td>42</td>\n",
              "      <td>28</td>\n",
              "      <td>66</td>\n",
              "      <td>25</td>\n",
              "      <td>41</td>\n",
              "      <td>D</td>\n",
              "    </tr>\n",
              "    <tr>\n",
              "      <th>3</th>\n",
              "      <td>61</td>\n",
              "      <td>72</td>\n",
              "      <td>71</td>\n",
              "      <td>77</td>\n",
              "      <td>75</td>\n",
              "      <td>A</td>\n",
              "    </tr>\n",
              "    <tr>\n",
              "      <th>4</th>\n",
              "      <td>70</td>\n",
              "      <td>99</td>\n",
              "      <td>58</td>\n",
              "      <td>97</td>\n",
              "      <td>24</td>\n",
              "      <td>B</td>\n",
              "    </tr>\n",
              "  </tbody>\n",
              "</table>\n",
              "</div>"
            ],
            "text/plain": [
              "   s1  s2  s3  s4  s5 Grade\n",
              "0  52  61  82  98  63     A\n",
              "1  35  33  67  87  22     D\n",
              "2  42  28  66  25  41     D\n",
              "3  61  72  71  77  75     A\n",
              "4  70  99  58  97  24     B"
            ]
          },
          "metadata": {
            "tags": []
          },
          "execution_count": 33
        }
      ]
    },
    {
      "cell_type": "markdown",
      "metadata": {
        "id": "2tF-ANHeM58-",
        "colab_type": "text"
      },
      "source": [
        "## Apply Deep Learning to get Rules or models or Software"
      ]
    },
    {
      "cell_type": "code",
      "metadata": {
        "id": "eFBmLMX1MTSs",
        "colab_type": "code",
        "colab": {
          "base_uri": "https://localhost:8080/",
          "height": 111
        },
        "outputId": "9b2c6212-30b0-489f-a916-b7db138c3406"
      },
      "source": [
        "df1.head(2)"
      ],
      "execution_count": 34,
      "outputs": [
        {
          "output_type": "execute_result",
          "data": {
            "text/html": [
              "<div>\n",
              "<style scoped>\n",
              "    .dataframe tbody tr th:only-of-type {\n",
              "        vertical-align: middle;\n",
              "    }\n",
              "\n",
              "    .dataframe tbody tr th {\n",
              "        vertical-align: top;\n",
              "    }\n",
              "\n",
              "    .dataframe thead th {\n",
              "        text-align: right;\n",
              "    }\n",
              "</style>\n",
              "<table border=\"1\" class=\"dataframe\">\n",
              "  <thead>\n",
              "    <tr style=\"text-align: right;\">\n",
              "      <th></th>\n",
              "      <th>s1</th>\n",
              "      <th>s2</th>\n",
              "      <th>s3</th>\n",
              "      <th>s4</th>\n",
              "      <th>s5</th>\n",
              "      <th>Grade</th>\n",
              "    </tr>\n",
              "  </thead>\n",
              "  <tbody>\n",
              "    <tr>\n",
              "      <th>0</th>\n",
              "      <td>52</td>\n",
              "      <td>61</td>\n",
              "      <td>82</td>\n",
              "      <td>98</td>\n",
              "      <td>63</td>\n",
              "      <td>A</td>\n",
              "    </tr>\n",
              "    <tr>\n",
              "      <th>1</th>\n",
              "      <td>35</td>\n",
              "      <td>33</td>\n",
              "      <td>67</td>\n",
              "      <td>87</td>\n",
              "      <td>22</td>\n",
              "      <td>D</td>\n",
              "    </tr>\n",
              "  </tbody>\n",
              "</table>\n",
              "</div>"
            ],
            "text/plain": [
              "   s1  s2  s3  s4  s5 Grade\n",
              "0  52  61  82  98  63     A\n",
              "1  35  33  67  87  22     D"
            ]
          },
          "metadata": {
            "tags": []
          },
          "execution_count": 34
        }
      ]
    },
    {
      "cell_type": "markdown",
      "metadata": {
        "id": "xIAvYde8Na4V",
        "colab_type": "text"
      },
      "source": [
        "**apply one hot- encoding on Grade column**\n",
        "   A B C\n",
        "A  1 0 0\n",
        "B  0 1 0\n",
        "C  0 0 1"
      ]
    },
    {
      "cell_type": "code",
      "metadata": {
        "id": "HWHf2XWLOMb7",
        "colab_type": "code",
        "colab": {}
      },
      "source": [
        ""
      ],
      "execution_count": 0,
      "outputs": []
    },
    {
      "cell_type": "code",
      "metadata": {
        "id": "gRmIZAx2NaNt",
        "colab_type": "code",
        "colab": {
          "base_uri": "https://localhost:8080/",
          "height": 419
        },
        "outputId": "a634be18-c180-4fd3-f7be-dd11e0e37ad6"
      },
      "source": [
        "pd.get_dummies(df1.Grade)"
      ],
      "execution_count": 35,
      "outputs": [
        {
          "output_type": "execute_result",
          "data": {
            "text/html": [
              "<div>\n",
              "<style scoped>\n",
              "    .dataframe tbody tr th:only-of-type {\n",
              "        vertical-align: middle;\n",
              "    }\n",
              "\n",
              "    .dataframe tbody tr th {\n",
              "        vertical-align: top;\n",
              "    }\n",
              "\n",
              "    .dataframe thead th {\n",
              "        text-align: right;\n",
              "    }\n",
              "</style>\n",
              "<table border=\"1\" class=\"dataframe\">\n",
              "  <thead>\n",
              "    <tr style=\"text-align: right;\">\n",
              "      <th></th>\n",
              "      <th>A</th>\n",
              "      <th>A+</th>\n",
              "      <th>B</th>\n",
              "      <th>C</th>\n",
              "      <th>D</th>\n",
              "      <th>E</th>\n",
              "      <th>Fail</th>\n",
              "    </tr>\n",
              "  </thead>\n",
              "  <tbody>\n",
              "    <tr>\n",
              "      <th>0</th>\n",
              "      <td>1</td>\n",
              "      <td>0</td>\n",
              "      <td>0</td>\n",
              "      <td>0</td>\n",
              "      <td>0</td>\n",
              "      <td>0</td>\n",
              "      <td>0</td>\n",
              "    </tr>\n",
              "    <tr>\n",
              "      <th>1</th>\n",
              "      <td>0</td>\n",
              "      <td>0</td>\n",
              "      <td>0</td>\n",
              "      <td>0</td>\n",
              "      <td>1</td>\n",
              "      <td>0</td>\n",
              "      <td>0</td>\n",
              "    </tr>\n",
              "    <tr>\n",
              "      <th>2</th>\n",
              "      <td>0</td>\n",
              "      <td>0</td>\n",
              "      <td>0</td>\n",
              "      <td>0</td>\n",
              "      <td>1</td>\n",
              "      <td>0</td>\n",
              "      <td>0</td>\n",
              "    </tr>\n",
              "    <tr>\n",
              "      <th>3</th>\n",
              "      <td>1</td>\n",
              "      <td>0</td>\n",
              "      <td>0</td>\n",
              "      <td>0</td>\n",
              "      <td>0</td>\n",
              "      <td>0</td>\n",
              "      <td>0</td>\n",
              "    </tr>\n",
              "    <tr>\n",
              "      <th>4</th>\n",
              "      <td>0</td>\n",
              "      <td>0</td>\n",
              "      <td>1</td>\n",
              "      <td>0</td>\n",
              "      <td>0</td>\n",
              "      <td>0</td>\n",
              "      <td>0</td>\n",
              "    </tr>\n",
              "    <tr>\n",
              "      <th>...</th>\n",
              "      <td>...</td>\n",
              "      <td>...</td>\n",
              "      <td>...</td>\n",
              "      <td>...</td>\n",
              "      <td>...</td>\n",
              "      <td>...</td>\n",
              "      <td>...</td>\n",
              "    </tr>\n",
              "    <tr>\n",
              "      <th>19995</th>\n",
              "      <td>0</td>\n",
              "      <td>0</td>\n",
              "      <td>0</td>\n",
              "      <td>0</td>\n",
              "      <td>0</td>\n",
              "      <td>1</td>\n",
              "      <td>0</td>\n",
              "    </tr>\n",
              "    <tr>\n",
              "      <th>19996</th>\n",
              "      <td>0</td>\n",
              "      <td>0</td>\n",
              "      <td>0</td>\n",
              "      <td>1</td>\n",
              "      <td>0</td>\n",
              "      <td>0</td>\n",
              "      <td>0</td>\n",
              "    </tr>\n",
              "    <tr>\n",
              "      <th>19997</th>\n",
              "      <td>0</td>\n",
              "      <td>0</td>\n",
              "      <td>0</td>\n",
              "      <td>0</td>\n",
              "      <td>1</td>\n",
              "      <td>0</td>\n",
              "      <td>0</td>\n",
              "    </tr>\n",
              "    <tr>\n",
              "      <th>19998</th>\n",
              "      <td>0</td>\n",
              "      <td>0</td>\n",
              "      <td>1</td>\n",
              "      <td>0</td>\n",
              "      <td>0</td>\n",
              "      <td>0</td>\n",
              "      <td>0</td>\n",
              "    </tr>\n",
              "    <tr>\n",
              "      <th>19999</th>\n",
              "      <td>0</td>\n",
              "      <td>0</td>\n",
              "      <td>1</td>\n",
              "      <td>0</td>\n",
              "      <td>0</td>\n",
              "      <td>0</td>\n",
              "      <td>0</td>\n",
              "    </tr>\n",
              "  </tbody>\n",
              "</table>\n",
              "<p>20000 rows × 7 columns</p>\n",
              "</div>"
            ],
            "text/plain": [
              "       A  A+  B  C  D  E  Fail\n",
              "0      1   0  0  0  0  0     0\n",
              "1      0   0  0  0  1  0     0\n",
              "2      0   0  0  0  1  0     0\n",
              "3      1   0  0  0  0  0     0\n",
              "4      0   0  1  0  0  0     0\n",
              "...   ..  .. .. .. .. ..   ...\n",
              "19995  0   0  0  0  0  1     0\n",
              "19996  0   0  0  1  0  0     0\n",
              "19997  0   0  0  0  1  0     0\n",
              "19998  0   0  1  0  0  0     0\n",
              "19999  0   0  1  0  0  0     0\n",
              "\n",
              "[20000 rows x 7 columns]"
            ]
          },
          "metadata": {
            "tags": []
          },
          "execution_count": 35
        }
      ]
    },
    {
      "cell_type": "code",
      "metadata": {
        "id": "Il3Fy2lVNHat",
        "colab_type": "code",
        "colab": {}
      },
      "source": [
        "   A B C\n",
        "A  1 0 0\n",
        "B  0 1 0\n",
        "C  0 0 1"
      ],
      "execution_count": 0,
      "outputs": []
    },
    {
      "cell_type": "code",
      "metadata": {
        "id": "XOWWElHWOSAi",
        "colab_type": "code",
        "colab": {
          "base_uri": "https://localhost:8080/",
          "height": 204
        },
        "outputId": "89f6cb79-b38e-47c7-c222-d8ac95c408da"
      },
      "source": [
        "X  = df1.loc[:,'s1':'s5']\n",
        "X.head()"
      ],
      "execution_count": 36,
      "outputs": [
        {
          "output_type": "execute_result",
          "data": {
            "text/html": [
              "<div>\n",
              "<style scoped>\n",
              "    .dataframe tbody tr th:only-of-type {\n",
              "        vertical-align: middle;\n",
              "    }\n",
              "\n",
              "    .dataframe tbody tr th {\n",
              "        vertical-align: top;\n",
              "    }\n",
              "\n",
              "    .dataframe thead th {\n",
              "        text-align: right;\n",
              "    }\n",
              "</style>\n",
              "<table border=\"1\" class=\"dataframe\">\n",
              "  <thead>\n",
              "    <tr style=\"text-align: right;\">\n",
              "      <th></th>\n",
              "      <th>s1</th>\n",
              "      <th>s2</th>\n",
              "      <th>s3</th>\n",
              "      <th>s4</th>\n",
              "      <th>s5</th>\n",
              "    </tr>\n",
              "  </thead>\n",
              "  <tbody>\n",
              "    <tr>\n",
              "      <th>0</th>\n",
              "      <td>52</td>\n",
              "      <td>61</td>\n",
              "      <td>82</td>\n",
              "      <td>98</td>\n",
              "      <td>63</td>\n",
              "    </tr>\n",
              "    <tr>\n",
              "      <th>1</th>\n",
              "      <td>35</td>\n",
              "      <td>33</td>\n",
              "      <td>67</td>\n",
              "      <td>87</td>\n",
              "      <td>22</td>\n",
              "    </tr>\n",
              "    <tr>\n",
              "      <th>2</th>\n",
              "      <td>42</td>\n",
              "      <td>28</td>\n",
              "      <td>66</td>\n",
              "      <td>25</td>\n",
              "      <td>41</td>\n",
              "    </tr>\n",
              "    <tr>\n",
              "      <th>3</th>\n",
              "      <td>61</td>\n",
              "      <td>72</td>\n",
              "      <td>71</td>\n",
              "      <td>77</td>\n",
              "      <td>75</td>\n",
              "    </tr>\n",
              "    <tr>\n",
              "      <th>4</th>\n",
              "      <td>70</td>\n",
              "      <td>99</td>\n",
              "      <td>58</td>\n",
              "      <td>97</td>\n",
              "      <td>24</td>\n",
              "    </tr>\n",
              "  </tbody>\n",
              "</table>\n",
              "</div>"
            ],
            "text/plain": [
              "   s1  s2  s3  s4  s5\n",
              "0  52  61  82  98  63\n",
              "1  35  33  67  87  22\n",
              "2  42  28  66  25  41\n",
              "3  61  72  71  77  75\n",
              "4  70  99  58  97  24"
            ]
          },
          "metadata": {
            "tags": []
          },
          "execution_count": 36
        }
      ]
    },
    {
      "cell_type": "code",
      "metadata": {
        "id": "M3nSwU-LOZ0W",
        "colab_type": "code",
        "colab": {
          "base_uri": "https://localhost:8080/",
          "height": 204
        },
        "outputId": "d932739f-4c1e-4eaf-c208-2f55016778c8"
      },
      "source": [
        "Y = df1.Grade\n",
        "Y = pd.get_dummies(Y) #apply one hot- encoding on Grade column\n",
        "Y.head()"
      ],
      "execution_count": 37,
      "outputs": [
        {
          "output_type": "execute_result",
          "data": {
            "text/html": [
              "<div>\n",
              "<style scoped>\n",
              "    .dataframe tbody tr th:only-of-type {\n",
              "        vertical-align: middle;\n",
              "    }\n",
              "\n",
              "    .dataframe tbody tr th {\n",
              "        vertical-align: top;\n",
              "    }\n",
              "\n",
              "    .dataframe thead th {\n",
              "        text-align: right;\n",
              "    }\n",
              "</style>\n",
              "<table border=\"1\" class=\"dataframe\">\n",
              "  <thead>\n",
              "    <tr style=\"text-align: right;\">\n",
              "      <th></th>\n",
              "      <th>A</th>\n",
              "      <th>A+</th>\n",
              "      <th>B</th>\n",
              "      <th>C</th>\n",
              "      <th>D</th>\n",
              "      <th>E</th>\n",
              "      <th>Fail</th>\n",
              "    </tr>\n",
              "  </thead>\n",
              "  <tbody>\n",
              "    <tr>\n",
              "      <th>0</th>\n",
              "      <td>1</td>\n",
              "      <td>0</td>\n",
              "      <td>0</td>\n",
              "      <td>0</td>\n",
              "      <td>0</td>\n",
              "      <td>0</td>\n",
              "      <td>0</td>\n",
              "    </tr>\n",
              "    <tr>\n",
              "      <th>1</th>\n",
              "      <td>0</td>\n",
              "      <td>0</td>\n",
              "      <td>0</td>\n",
              "      <td>0</td>\n",
              "      <td>1</td>\n",
              "      <td>0</td>\n",
              "      <td>0</td>\n",
              "    </tr>\n",
              "    <tr>\n",
              "      <th>2</th>\n",
              "      <td>0</td>\n",
              "      <td>0</td>\n",
              "      <td>0</td>\n",
              "      <td>0</td>\n",
              "      <td>1</td>\n",
              "      <td>0</td>\n",
              "      <td>0</td>\n",
              "    </tr>\n",
              "    <tr>\n",
              "      <th>3</th>\n",
              "      <td>1</td>\n",
              "      <td>0</td>\n",
              "      <td>0</td>\n",
              "      <td>0</td>\n",
              "      <td>0</td>\n",
              "      <td>0</td>\n",
              "      <td>0</td>\n",
              "    </tr>\n",
              "    <tr>\n",
              "      <th>4</th>\n",
              "      <td>0</td>\n",
              "      <td>0</td>\n",
              "      <td>1</td>\n",
              "      <td>0</td>\n",
              "      <td>0</td>\n",
              "      <td>0</td>\n",
              "      <td>0</td>\n",
              "    </tr>\n",
              "  </tbody>\n",
              "</table>\n",
              "</div>"
            ],
            "text/plain": [
              "   A  A+  B  C  D  E  Fail\n",
              "0  1   0  0  0  0  0     0\n",
              "1  0   0  0  0  1  0     0\n",
              "2  0   0  0  0  1  0     0\n",
              "3  1   0  0  0  0  0     0\n",
              "4  0   0  1  0  0  0     0"
            ]
          },
          "metadata": {
            "tags": []
          },
          "execution_count": 37
        }
      ]
    },
    {
      "cell_type": "code",
      "metadata": {
        "id": "k65TvIpKOvf8",
        "colab_type": "code",
        "colab": {}
      },
      "source": [
        "from tensorflow.keras.models import Sequential\n",
        "from tensorflow.keras.layers import Dense\n",
        "from tensorflow.keras.optimizers import Adam, SGD"
      ],
      "execution_count": 0,
      "outputs": []
    },
    {
      "cell_type": "code",
      "metadata": {
        "id": "affTxnblPNmc",
        "colab_type": "code",
        "colab": {}
      },
      "source": [
        "# first-layer input_shape (no of columns in X)\n",
        "#Last layer output no of labels in Y( unique values )\n",
        "#last-layer activation  function depends on your problem(4.6)\n",
        "model = Sequential()\n",
        "model.add(Dense(5, input_shape=(5,), activation='relu'))\n",
        "model.add(Dense(7, activation = 'softmax')) # last-layer output depends on numbers of labels"
      ],
      "execution_count": 0,
      "outputs": []
    },
    {
      "cell_type": "code",
      "metadata": {
        "id": "GgR7_knCQ5mP",
        "colab_type": "code",
        "colab": {
          "base_uri": "https://localhost:8080/",
          "height": 221
        },
        "outputId": "56af8e89-3ba6-4a08-976e-4b7c8df67236"
      },
      "source": [
        "model.summary()"
      ],
      "execution_count": 47,
      "outputs": [
        {
          "output_type": "stream",
          "text": [
            "Model: \"sequential_3\"\n",
            "_________________________________________________________________\n",
            "Layer (type)                 Output Shape              Param #   \n",
            "=================================================================\n",
            "dense_5 (Dense)              (None, 5)                 30        \n",
            "_________________________________________________________________\n",
            "dense_6 (Dense)              (None, 7)                 42        \n",
            "=================================================================\n",
            "Total params: 72\n",
            "Trainable params: 72\n",
            "Non-trainable params: 0\n",
            "_________________________________________________________________\n"
          ],
          "name": "stdout"
        }
      ]
    },
    {
      "cell_type": "code",
      "metadata": {
        "id": "dQ6dOtVBRGd7",
        "colab_type": "code",
        "colab": {}
      },
      "source": [
        "# optimizer Updates => weights (w,b) based on loss ffunction\n",
        "model.compile(optimizer=Adam(lr = .2),\n",
        "              loss=\"categorical_crossentropy\",\n",
        "              metrics = ['acc']\n",
        "              )"
      ],
      "execution_count": 0,
      "outputs": []
    },
    {
      "cell_type": "code",
      "metadata": {
        "id": "PIVzpYQJUYDc",
        "colab_type": "code",
        "colab": {
          "base_uri": "https://localhost:8080/",
          "height": 1000
        },
        "outputId": "86e48d49-789f-465a-c101-4f2d0de5d261"
      },
      "source": [
        "model.fit(X,Y, epochs=30)"
      ],
      "execution_count": 51,
      "outputs": [
        {
          "output_type": "stream",
          "text": [
            "Epoch 1/30\n",
            "625/625 [==============================] - 1s 2ms/step - loss: 1.6281 - acc: 0.3032\n",
            "Epoch 2/30\n",
            "625/625 [==============================] - 1s 2ms/step - loss: 1.6268 - acc: 0.3065\n",
            "Epoch 3/30\n",
            "625/625 [==============================] - 1s 2ms/step - loss: 1.6261 - acc: 0.3090\n",
            "Epoch 4/30\n",
            "625/625 [==============================] - 1s 2ms/step - loss: 1.6286 - acc: 0.3081\n",
            "Epoch 5/30\n",
            "625/625 [==============================] - 1s 2ms/step - loss: 1.6309 - acc: 0.3043\n",
            "Epoch 6/30\n",
            "625/625 [==============================] - 1s 2ms/step - loss: 1.6258 - acc: 0.3087\n",
            "Epoch 7/30\n",
            "625/625 [==============================] - 1s 2ms/step - loss: 1.6282 - acc: 0.3030\n",
            "Epoch 8/30\n",
            "625/625 [==============================] - 1s 2ms/step - loss: 1.6294 - acc: 0.3041\n",
            "Epoch 9/30\n",
            "625/625 [==============================] - 1s 2ms/step - loss: 1.6277 - acc: 0.3101\n",
            "Epoch 10/30\n",
            "625/625 [==============================] - 1s 2ms/step - loss: 1.6272 - acc: 0.3099\n",
            "Epoch 11/30\n",
            "625/625 [==============================] - 1s 2ms/step - loss: 1.6288 - acc: 0.3059\n",
            "Epoch 12/30\n",
            "625/625 [==============================] - 1s 2ms/step - loss: 1.6273 - acc: 0.3101\n",
            "Epoch 13/30\n",
            "625/625 [==============================] - 1s 2ms/step - loss: 1.6281 - acc: 0.3091\n",
            "Epoch 14/30\n",
            "625/625 [==============================] - 1s 2ms/step - loss: 1.6281 - acc: 0.3099\n",
            "Epoch 15/30\n",
            "625/625 [==============================] - 1s 2ms/step - loss: 1.6254 - acc: 0.3141\n",
            "Epoch 16/30\n",
            "625/625 [==============================] - 1s 2ms/step - loss: 1.6294 - acc: 0.3040\n",
            "Epoch 17/30\n",
            "625/625 [==============================] - 1s 2ms/step - loss: 1.6250 - acc: 0.3106\n",
            "Epoch 18/30\n",
            "625/625 [==============================] - 1s 2ms/step - loss: 1.6283 - acc: 0.3098\n",
            "Epoch 19/30\n",
            "625/625 [==============================] - 1s 2ms/step - loss: 1.6267 - acc: 0.3108\n",
            "Epoch 20/30\n",
            "625/625 [==============================] - 1s 2ms/step - loss: 1.6260 - acc: 0.3113\n",
            "Epoch 21/30\n",
            "625/625 [==============================] - 1s 2ms/step - loss: 1.6272 - acc: 0.3085\n",
            "Epoch 22/30\n",
            "625/625 [==============================] - 1s 2ms/step - loss: 1.6304 - acc: 0.3049\n",
            "Epoch 23/30\n",
            "625/625 [==============================] - 1s 2ms/step - loss: 1.6279 - acc: 0.2998\n",
            "Epoch 24/30\n",
            "625/625 [==============================] - 1s 2ms/step - loss: 1.6274 - acc: 0.3074\n",
            "Epoch 25/30\n",
            "625/625 [==============================] - 1s 2ms/step - loss: 1.6286 - acc: 0.3074\n",
            "Epoch 26/30\n",
            "625/625 [==============================] - 1s 2ms/step - loss: 1.6257 - acc: 0.3128\n",
            "Epoch 27/30\n",
            "625/625 [==============================] - 1s 2ms/step - loss: 1.6282 - acc: 0.3049\n",
            "Epoch 28/30\n",
            "625/625 [==============================] - 1s 2ms/step - loss: 1.6251 - acc: 0.3135\n",
            "Epoch 29/30\n",
            "625/625 [==============================] - 1s 2ms/step - loss: 1.6248 - acc: 0.3077\n",
            "Epoch 30/30\n",
            "625/625 [==============================] - 1s 2ms/step - loss: 1.6265 - acc: 0.3117\n"
          ],
          "name": "stdout"
        },
        {
          "output_type": "execute_result",
          "data": {
            "text/plain": [
              "<tensorflow.python.keras.callbacks.History at 0x7fd94c400dd8>"
            ]
          },
          "metadata": {
            "tags": []
          },
          "execution_count": 51
        }
      ]
    },
    {
      "cell_type": "code",
      "metadata": {
        "id": "rEHwPKdUUgDs",
        "colab_type": "code",
        "colab": {
          "base_uri": "https://localhost:8080/",
          "height": 204
        },
        "outputId": "2b1d21c0-f57e-49cb-e627-e8996629b4d7"
      },
      "source": [
        "df['Predict'] = Y.columns.take(np.argmax(\n",
        "    model.predict(df1.loc[:,'s1':'s5']),\n",
        "    axis=1\n",
        "))\n",
        "df.head()"
      ],
      "execution_count": 53,
      "outputs": [
        {
          "output_type": "execute_result",
          "data": {
            "text/html": [
              "<div>\n",
              "<style scoped>\n",
              "    .dataframe tbody tr th:only-of-type {\n",
              "        vertical-align: middle;\n",
              "    }\n",
              "\n",
              "    .dataframe tbody tr th {\n",
              "        vertical-align: top;\n",
              "    }\n",
              "\n",
              "    .dataframe thead th {\n",
              "        text-align: right;\n",
              "    }\n",
              "</style>\n",
              "<table border=\"1\" class=\"dataframe\">\n",
              "  <thead>\n",
              "    <tr style=\"text-align: right;\">\n",
              "      <th></th>\n",
              "      <th>s1</th>\n",
              "      <th>s2</th>\n",
              "      <th>s3</th>\n",
              "      <th>s4</th>\n",
              "      <th>s5</th>\n",
              "      <th>obtained</th>\n",
              "      <th>Total</th>\n",
              "      <th>percentage</th>\n",
              "      <th>Grade</th>\n",
              "      <th>Grade1</th>\n",
              "      <th>Predict</th>\n",
              "    </tr>\n",
              "  </thead>\n",
              "  <tbody>\n",
              "    <tr>\n",
              "      <th>0</th>\n",
              "      <td>52</td>\n",
              "      <td>61</td>\n",
              "      <td>82</td>\n",
              "      <td>98</td>\n",
              "      <td>63</td>\n",
              "      <td>356</td>\n",
              "      <td>500</td>\n",
              "      <td>71.2</td>\n",
              "      <td>A</td>\n",
              "      <td>6.0</td>\n",
              "      <td>C</td>\n",
              "    </tr>\n",
              "    <tr>\n",
              "      <th>1</th>\n",
              "      <td>35</td>\n",
              "      <td>33</td>\n",
              "      <td>67</td>\n",
              "      <td>87</td>\n",
              "      <td>22</td>\n",
              "      <td>244</td>\n",
              "      <td>500</td>\n",
              "      <td>48.8</td>\n",
              "      <td>D</td>\n",
              "      <td>3.0</td>\n",
              "      <td>C</td>\n",
              "    </tr>\n",
              "    <tr>\n",
              "      <th>2</th>\n",
              "      <td>42</td>\n",
              "      <td>28</td>\n",
              "      <td>66</td>\n",
              "      <td>25</td>\n",
              "      <td>41</td>\n",
              "      <td>202</td>\n",
              "      <td>500</td>\n",
              "      <td>40.4</td>\n",
              "      <td>D</td>\n",
              "      <td>3.0</td>\n",
              "      <td>C</td>\n",
              "    </tr>\n",
              "    <tr>\n",
              "      <th>3</th>\n",
              "      <td>61</td>\n",
              "      <td>72</td>\n",
              "      <td>71</td>\n",
              "      <td>77</td>\n",
              "      <td>75</td>\n",
              "      <td>356</td>\n",
              "      <td>500</td>\n",
              "      <td>71.2</td>\n",
              "      <td>A</td>\n",
              "      <td>6.0</td>\n",
              "      <td>C</td>\n",
              "    </tr>\n",
              "    <tr>\n",
              "      <th>4</th>\n",
              "      <td>70</td>\n",
              "      <td>99</td>\n",
              "      <td>58</td>\n",
              "      <td>97</td>\n",
              "      <td>24</td>\n",
              "      <td>348</td>\n",
              "      <td>500</td>\n",
              "      <td>69.6</td>\n",
              "      <td>B</td>\n",
              "      <td>NaN</td>\n",
              "      <td>C</td>\n",
              "    </tr>\n",
              "  </tbody>\n",
              "</table>\n",
              "</div>"
            ],
            "text/plain": [
              "   s1  s2  s3  s4  s5  obtained  Total  percentage Grade  Grade1 Predict\n",
              "0  52  61  82  98  63       356    500        71.2     A     6.0       C\n",
              "1  35  33  67  87  22       244    500        48.8     D     3.0       C\n",
              "2  42  28  66  25  41       202    500        40.4     D     3.0       C\n",
              "3  61  72  71  77  75       356    500        71.2     A     6.0       C\n",
              "4  70  99  58  97  24       348    500        69.6     B     NaN       C"
            ]
          },
          "metadata": {
            "tags": []
          },
          "execution_count": 53
        }
      ]
    },
    {
      "cell_type": "code",
      "metadata": {
        "id": "ht8mNNxFYHkI",
        "colab_type": "code",
        "colab": {
          "base_uri": "https://localhost:8080/",
          "height": 153
        },
        "outputId": "90906101-06fd-4845-ba84-7541c90f5f5b"
      },
      "source": [
        "df.Grade.value_counts()"
      ],
      "execution_count": 54,
      "outputs": [
        {
          "output_type": "execute_result",
          "data": {
            "text/plain": [
              "C       6503\n",
              "D       4849\n",
              "B       4648\n",
              "A       1585\n",
              "E       1552\n",
              "Fail     592\n",
              "A+       271\n",
              "Name: Grade, dtype: int64"
            ]
          },
          "metadata": {
            "tags": []
          },
          "execution_count": 54
        }
      ]
    },
    {
      "cell_type": "code",
      "metadata": {
        "id": "nmnZ_Gn-YajQ",
        "colab_type": "code",
        "colab": {}
      },
      "source": [
        "df1"
      ],
      "execution_count": 0,
      "outputs": []
    }
  ]
}