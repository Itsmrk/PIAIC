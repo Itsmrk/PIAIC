{
 "cells": [
  {
   "cell_type": "code",
   "execution_count": 3,
   "metadata": {},
   "outputs": [
    {
     "ename": "SyntaxError",
     "evalue": "invalid syntax (<ipython-input-3-39d5034652f2>, line 11)",
     "output_type": "error",
     "traceback": [
      "\u001b[1;36m  File \u001b[1;32m\"<ipython-input-3-39d5034652f2>\"\u001b[1;36m, line \u001b[1;32m11\u001b[0m\n\u001b[1;33m    print(card{name,fname,program})\u001b[0m\n\u001b[1;37m              ^\u001b[0m\n\u001b[1;31mSyntaxError\u001b[0m\u001b[1;31m:\u001b[0m invalid syntax\n"
     ]
    }
   ],
   "source": [
    "name = \"ITs MRK\"\n",
    "fname = \"ITs MAK\"\n",
    "program =\"PIAIC\"\n",
    "card =\"\"\"\n",
    "Bharia Uniersity Islamabad\n",
    "name: %s\n",
    "Fathers Name: %s\n",
    "Program: %s\n",
    "\"\"\"\n",
    "\n",
    "print(card{name,fname,program})"
   ]
  },
  {
   "cell_type": "code",
   "execution_count": 2,
   "metadata": {},
   "outputs": [
    {
     "name": "stdout",
     "output_type": "stream",
     "text": [
      "\n",
      "Bharia Uniersity Islamabad\n",
      "name: ITs MRK\n",
      "Fathers Name: ITs MAK\n",
      "Program: PIAIC\n",
      "\n"
     ]
    }
   ],
   "source": [
    "name = \"ITs MRK\"\n",
    "fname = \"ITs MAK\"\n",
    "program =\"PIAIC\"\n",
    "card =f\"\"\"\n",
    "Bharia Uniersity Islamabad\n",
    "name: {name}\n",
    "Fathers Name: {fname}\n",
    "Program: {program}\n",
    "\"\"\"\n",
    "\n",
    "print(card)"
   ]
  },
  {
   "cell_type": "code",
   "execution_count": 7,
   "metadata": {},
   "outputs": [
    {
     "ename": "AttributeError",
     "evalue": "'str' object has no attribute 'formate'",
     "output_type": "error",
     "traceback": [
      "\u001b[1;31m---------------------------------------------------------------------------\u001b[0m",
      "\u001b[1;31mAttributeError\u001b[0m                            Traceback (most recent call last)",
      "\u001b[1;32m<ipython-input-7-be1a49411ef7>\u001b[0m in \u001b[0;36m<module>\u001b[1;34m\u001b[0m\n\u001b[0;32m      9\u001b[0m \"\"\"\n\u001b[0;32m     10\u001b[0m \u001b[1;33m\u001b[0m\u001b[0m\n\u001b[1;32m---> 11\u001b[1;33m \u001b[0mprint\u001b[0m\u001b[1;33m(\u001b[0m\u001b[0mcard\u001b[0m\u001b[1;33m.\u001b[0m\u001b[0mformate\u001b[0m\u001b[1;33m(\u001b[0m\u001b[0mname\u001b[0m\u001b[1;33m,\u001b[0m \u001b[0mfname\u001b[0m\u001b[1;33m,\u001b[0m \u001b[0mprogram\u001b[0m\u001b[1;33m)\u001b[0m\u001b[1;33m)\u001b[0m\u001b[1;33m\u001b[0m\u001b[1;33m\u001b[0m\u001b[0m\n\u001b[0m",
      "\u001b[1;31mAttributeError\u001b[0m: 'str' object has no attribute 'formate'"
     ]
    }
   ],
   "source": [
    "name = \"ITs MRK\"\n",
    "fname = \"ITs MAK\"\n",
    "program =\"PIAIC\"\n",
    "card =\"\"\"\n",
    "Bharia Uniersity Islamabad\n",
    "name: {}\n",
    "Fathers Name: {}\n",
    "Program: {}\n",
    "\"\"\"\n",
    "\n",
    "print(card.formate(name, fname, program))"
   ]
  },
  {
   "cell_type": "code",
   "execution_count": null,
   "metadata": {},
   "outputs": [],
   "source": [
    "name = \"ITs MRK\"\n",
    "fname = \"ITs MAK\"\n",
    "program =\"PIAIC\"\n",
    "\n",
    "print(\"Bharia Uniersity Islamabad \\n student Name: '\\ \n",
    "+ name +    \n",
    "     )\n",
    "\n",
    "card =\"\"\"\n",
    "Bharia Uniersity Islamabad\n",
    "name: {a}\n",
    "Fathers Name: {b}\n",
    "Program: {c}\n",
    "\"\"\"\n",
    "\n",
    "print(card.formate(name, fname, program))"
   ]
  }
 ],
 "metadata": {
  "kernelspec": {
   "display_name": "Python 3",
   "language": "python",
   "name": "python3"
  },
  "language_info": {
   "codemirror_mode": {
    "name": "ipython",
    "version": 3
   },
   "file_extension": ".py",
   "mimetype": "text/x-python",
   "name": "python",
   "nbconvert_exporter": "python",
   "pygments_lexer": "ipython3",
   "version": "3.7.4"
  }
 },
 "nbformat": 4,
 "nbformat_minor": 2
}
