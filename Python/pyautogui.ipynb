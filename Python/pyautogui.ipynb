{
 "cells": [
  {
   "cell_type": "code",
   "execution_count": 5,
   "metadata": {},
   "outputs": [],
   "source": [
    "import pyautogui as pg\n",
    "pg.moveTo(1256,18,1)\n",
    "pg.click()\n",
    "pg.moveTo(227,744,1)\n",
    "pg.click()\n",
    "pg.write('Chrome\\n', interval=0.25)\n",
    "pg.moveTo(579,420,1)\n",
    "pg.click()\n",
    "pg.write('www.facebook.com \\n', interval=0.35)\n",
    "pg.moveTo(346,91,3)\n",
    "pg.click()\n",
    "pg.write('Learning AI with Sir Qasim \\n', interval=0.30)\n",
    "pg.moveTo(457,196,4)\n",
    "pg.click()\n",
    "pg.moveTo(409,582,8)\n",
    "pg.click()\n",
    "pg.moveTo(1354,718,2)\n",
    "pg.click()\n",
    "pg.click()\n",
    "pg.click()\n",
    "pg.click()\n",
    "pg.click()\n",
    "pg.click()\n",
    "pg.write('I am Robot Sir Qasim', interval=0.30)\n",
    "pg.moveTo(498,363,2)\n",
    "pg.click()\n"
   ]
  },
  {
   "cell_type": "code",
   "execution_count": null,
   "metadata": {
    "collapsed": true
   },
   "outputs": [],
   "source": []
  }
 ],
 "metadata": {
  "kernelspec": {
   "display_name": "Python 3",
   "language": "python",
   "name": "python3"
  },
  "language_info": {
   "codemirror_mode": {
    "name": "ipython",
    "version": 3
   },
   "file_extension": ".py",
   "mimetype": "text/x-python",
   "name": "python",
   "nbconvert_exporter": "python",
   "pygments_lexer": "ipython3",
   "version": "3.7.4"
  }
 },
 "nbformat": 4,
 "nbformat_minor": 2
}
