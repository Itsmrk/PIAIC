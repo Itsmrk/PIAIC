{
 "cells": [
  {
   "cell_type": "markdown",
   "metadata": {},
   "source": [
    "# Inheritance"
   ]
  },
  {
   "cell_type": "code",
   "execution_count": 11,
   "metadata": {},
   "outputs": [
    {
     "name": "stdout",
     "output_type": "stream",
     "text": [
      "Brown\n"
     ]
    }
   ],
   "source": [
    "class Parent():\n",
    "    def __init__(self):\n",
    "        self.name = \"PN\"\n",
    "        self.id  = 0\n",
    "        self.eye_color = \"Brown\"\n",
    "        \n",
    "    def speak(self):\n",
    "        print(\"Parent Speaking..\")\n",
    "    \n",
    "    def eat(self):\n",
    "        print(\"Eating food...\")\n",
    "        \n",
    "\n",
    "class Child(Parent):\n",
    "    pass\n",
    "\n",
    "p1 = Parent()\n",
    "print(p1.eye_color)\n",
    "\n",
    "c1 = Child()"
   ]
  },
  {
   "cell_type": "code",
   "execution_count": 14,
   "metadata": {},
   "outputs": [],
   "source": [
    "class Father():\n",
    "    def __init__(self):\n",
    "        self.eye_color = \"Brown\"\n",
    "        self.face_color = \"White\"\n",
    "        self.hair_color = \"Black\"\n",
    "        \n",
    "    def speak(self): print(\"FatherSpeaking\")\n",
    "    def eat(self): print(\"FatherEating\")\n",
    "        \n",
    "\n",
    "class Mother():\n",
    "    def __init__(self):\n",
    "        self.height = \"M_Height\"\n",
    "        self.weigth = \"M_Weight\"\n",
    "        self.hair_color = \"DarkBrown\"\n",
    "        \n",
    "    def listing(self): print(\"FatherListing\")\n",
    "    def eat(self): print(\"MotherEating\")\n",
    "\n",
    "class Child(Mother, Father):\n",
    "    pass\n",
    "\n",
    "c1 = Child()"
   ]
  },
  {
   "cell_type": "code",
   "execution_count": 16,
   "metadata": {},
   "outputs": [
    {
     "data": {
      "text/plain": [
       "'MHeight'"
      ]
     },
     "execution_count": 16,
     "metadata": {},
     "output_type": "execute_result"
    }
   ],
   "source": [
    "c1.height"
   ]
  },
  {
   "cell_type": "markdown",
   "metadata": {},
   "source": [
    "# Polymorphism"
   ]
  },
  {
   "cell_type": "markdown",
   "metadata": {},
   "source": [
    "# Overloading"
   ]
  },
  {
   "cell_type": "code",
   "execution_count": 21,
   "metadata": {},
   "outputs": [
    {
     "name": "stdout",
     "output_type": "stream",
     "text": [
      "13\n",
      "13.2\n",
      "27\n"
     ]
    }
   ],
   "source": [
    "class A():\n",
    "    def abc(self, *n):\n",
    "        print(sum(n))\n",
    "        \n",
    "obj1=A()\n",
    "obj1.abc(1,3,3,6)\n",
    "obj1.abc(5,8.2)\n",
    "obj1.abc(7,20)\n",
    "\n",
    "\n"
   ]
  },
  {
   "cell_type": "markdown",
   "metadata": {},
   "source": [
    "# Over Riding"
   ]
  },
  {
   "cell_type": "code",
   "execution_count": 20,
   "metadata": {},
   "outputs": [
    {
     "name": "stdout",
     "output_type": "stream",
     "text": [
      "Ba2\n"
     ]
    }
   ],
   "source": [
    "class A():\n",
    "    def a1(self):print(\"Aa1\")\n",
    "    def a2(self):print(\"Aa2\")\n",
    "        \n",
    "class B(A):\n",
    "    def a2(self):print(\"Ba2\") #Over riding \n",
    "        \n",
    "obj1 = B()        \n",
    "obj1.a2()"
   ]
  },
  {
   "cell_type": "code",
   "execution_count": null,
   "metadata": {},
   "outputs": [],
   "source": []
  }
 ],
 "metadata": {
  "kernelspec": {
   "display_name": "Python 3",
   "language": "python",
   "name": "python3"
  },
  "language_info": {
   "codemirror_mode": {
    "name": "ipython",
    "version": 3
   },
   "file_extension": ".py",
   "mimetype": "text/x-python",
   "name": "python",
   "nbconvert_exporter": "python",
   "pygments_lexer": "ipython3",
   "version": "3.7.4"
  }
 },
 "nbformat": 4,
 "nbformat_minor": 2
}
