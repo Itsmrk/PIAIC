{
 "cells": [
  {
   "cell_type": "code",
   "execution_count": 2,
   "metadata": {},
   "outputs": [
    {
     "name": "stdout",
     "output_type": "stream",
     "text": [
      "C\n",
      "C\n"
     ]
    }
   ],
   "source": [
    "#index right- left 0 1 2\n",
    "names=[\"A\",\"B\",\"C\"]\n",
    "#index -3 -2 -1\n",
    "print(names[2])\n",
    "print(names[-1])"
   ]
  },
  {
   "cell_type": "code",
   "execution_count": 3,
   "metadata": {},
   "outputs": [
    {
     "data": {
      "text/plain": [
       "46"
      ]
     },
     "execution_count": 3,
     "metadata": {},
     "output_type": "execute_result"
    }
   ],
   "source": [
    "len(dir(list))"
   ]
  },
  {
   "cell_type": "code",
   "execution_count": 5,
   "metadata": {},
   "outputs": [
    {
     "data": {
      "text/plain": [
       "['__add__',\n",
       " '__class__',\n",
       " '__contains__',\n",
       " '__delattr__',\n",
       " '__delitem__',\n",
       " '__dir__',\n",
       " '__doc__',\n",
       " '__eq__',\n",
       " '__format__',\n",
       " '__ge__',\n",
       " '__getattribute__',\n",
       " '__getitem__',\n",
       " '__gt__',\n",
       " '__hash__',\n",
       " '__iadd__',\n",
       " '__imul__',\n",
       " '__init__',\n",
       " '__init_subclass__',\n",
       " '__iter__',\n",
       " '__le__',\n",
       " '__len__',\n",
       " '__lt__',\n",
       " '__mul__',\n",
       " '__ne__',\n",
       " '__new__',\n",
       " '__reduce__',\n",
       " '__reduce_ex__',\n",
       " '__repr__',\n",
       " '__reversed__',\n",
       " '__rmul__',\n",
       " '__setattr__',\n",
       " '__setitem__',\n",
       " '__sizeof__',\n",
       " '__str__',\n",
       " '__subclasshook__',\n",
       " 'append',\n",
       " 'clear',\n",
       " 'copy',\n",
       " 'count',\n",
       " 'extend',\n",
       " 'index',\n",
       " 'insert',\n",
       " 'pop',\n",
       " 'remove',\n",
       " 'reverse',\n",
       " 'sort']"
      ]
     },
     "execution_count": 5,
     "metadata": {},
     "output_type": "execute_result"
    }
   ],
   "source": [
    "dir(list)"
   ]
  },
  {
   "cell_type": "code",
   "execution_count": 7,
   "metadata": {},
   "outputs": [
    {
     "data": {
      "text/plain": [
       "['A', 'B', 'C', 3]"
      ]
     },
     "execution_count": 7,
     "metadata": {},
     "output_type": "execute_result"
    }
   ],
   "source": [
    "names=[]#empty list\n",
    "#names=[\"A\",\"B\",\"C\"]\n",
    "names.append(\"A\")\n",
    "names.append(\"B\")\n",
    "names.append(\"C\")\n",
    "names.append(3)\n",
    "# A B C 3\n",
    "names"
   ]
  },
  {
   "cell_type": "code",
   "execution_count": 9,
   "metadata": {},
   "outputs": [
    {
     "name": "stdout",
     "output_type": "stream",
     "text": [
      "Enter valueitsmrk\n"
     ]
    },
    {
     "data": {
      "text/plain": [
       "['A', 'B', 'C', 'A', 'B', 'C', 3, 'itsmrk']"
      ]
     },
     "execution_count": 9,
     "metadata": {},
     "output_type": "execute_result"
    }
   ],
   "source": [
    "names=[\"A\",\"B\",\"C\"]\n",
    "names.append(\"A\")\n",
    "names.append(\"B\")\n",
    "names.append(\"C\")\n",
    "names.append(3)\n",
    "a = input(\"Enter value\")\n",
    "names.append(a)\n",
    "names"
   ]
  },
  {
   "cell_type": "code",
   "execution_count": 10,
   "metadata": {},
   "outputs": [
    {
     "name": "stdout",
     "output_type": "stream",
     "text": [
      "['A', 'B', 'C']\n",
      "[]\n"
     ]
    }
   ],
   "source": [
    "names=[\"A\",\"B\",\"C\"]\n",
    "print(names)\n",
    "names.clear()\n",
    "print(names)"
   ]
  },
  {
   "cell_type": "code",
   "execution_count": 12,
   "metadata": {},
   "outputs": [
    {
     "name": "stdout",
     "output_type": "stream",
     "text": [
      "names ['A', 'B', 'C']\n",
      "names ['A', 'B', 'C']\n",
      "names ['pakistan', 'B', 'C']\n",
      "names ['pakistan', 'B', 'C']\n"
     ]
    }
   ],
   "source": [
    "names=[\"A\",\"B\",\"C\"]\n",
    "names1 = names #shallo copy\n",
    "print(\"names\",names)\n",
    "print(\"names\",names1)\n",
    "\n",
    "names[0] = \"pakistan\"\n",
    "print(\"names\",names)\n",
    "print(\"names\",names1)"
   ]
  },
  {
   "cell_type": "code",
   "execution_count": 13,
   "metadata": {},
   "outputs": [
    {
     "name": "stdout",
     "output_type": "stream",
     "text": [
      "names ['A', 'B', 'C']\n",
      "names ['A', 'B', 'C']\n",
      "names ['pakistan', 'B', 'C']\n",
      "names ['A', 'B', 'C']\n"
     ]
    }
   ],
   "source": [
    "names=[\"A\",\"B\",\"C\"]\n",
    "names1 = names.copy() #Deep copy\n",
    "print(\"names\",names)\n",
    "print(\"names\",names1)\n",
    "\n",
    "names[0] = \"pakistan\"\n",
    "print(\"names\",names)\n",
    "print(\"names\",names1)"
   ]
  },
  {
   "cell_type": "code",
   "execution_count": 15,
   "metadata": {},
   "outputs": [
    {
     "data": {
      "text/plain": [
       "1"
      ]
     },
     "execution_count": 15,
     "metadata": {},
     "output_type": "execute_result"
    }
   ],
   "source": [
    "names=[\"A\",\"B\",\"C\"]\n",
    "names.count(\"A\")"
   ]
  },
  {
   "cell_type": "code",
   "execution_count": 17,
   "metadata": {},
   "outputs": [
    {
     "name": "stdout",
     "output_type": "stream",
     "text": [
      "[1, 2, 3, 4, 5, 6]\n",
      "[1, 2, 3]\n",
      "[4, 5, 6]\n"
     ]
    }
   ],
   "source": [
    "l1 = [1,2,3]\n",
    "l2 = [4,5,6]\n",
    "print (l1+l2) #inlne opeartion\n",
    "print(l1)\n",
    "print(l2)"
   ]
  },
  {
   "cell_type": "code",
   "execution_count": 18,
   "metadata": {},
   "outputs": [
    {
     "name": "stdout",
     "output_type": "stream",
     "text": [
      "[1, 2, 3]\n",
      "[4, 5, 6]\n",
      "[1, 2, 3, 4, 5, 6]\n",
      "[4, 5, 6]\n"
     ]
    }
   ],
   "source": [
    "l1 = [1,2,3]\n",
    "l2 = [4,5,6]\n",
    "print(l1)\n",
    "print(l2)\n",
    "l1.extend(l2) #In Memory operation\n",
    "\n",
    "print(l1)\n",
    "print(l2)"
   ]
  },
  {
   "cell_type": "code",
   "execution_count": 22,
   "metadata": {},
   "outputs": [
    {
     "name": "stdout",
     "output_type": "stream",
     "text": [
      "1\n",
      "0\n",
      "3\n"
     ]
    }
   ],
   "source": [
    "l1 = [\"A\",\"B\",\"C\",\"A\",\"C\",\"E\"]\n",
    "print(l1.index('B'))\n",
    "print(l1.index('A'))\n",
    "print(l1.index('A',1))"
   ]
  },
  {
   "cell_type": "code",
   "execution_count": 23,
   "metadata": {},
   "outputs": [
    {
     "name": "stdout",
     "output_type": "stream",
     "text": [
      "['C', 'B', 'A']\n",
      "['C', 'D', 'B', 'A']\n"
     ]
    }
   ],
   "source": [
    "#l1 =[\"A\",\"B\",\"C\"]\n",
    "l1=[]\n",
    "l1.insert(0,\"A\")\n",
    "l1.insert(0,\"B\")\n",
    "l1.insert(0,\"C\")\n",
    "# c B A\n",
    "print(l1)\n",
    "\n",
    "l1.insert(1,\"D\")\n",
    "print(l1)"
   ]
  },
  {
   "cell_type": "code",
   "execution_count": 24,
   "metadata": {},
   "outputs": [
    {
     "data": {
      "text/plain": [
       "['A', 'B']"
      ]
     },
     "execution_count": 24,
     "metadata": {},
     "output_type": "execute_result"
    }
   ],
   "source": [
    "names =[\"A\",\"B\",\"C\",\"C\",\"D\"]\n",
    "names.pop() # REturn\n",
    "names.pop() # REturn\n",
    "names.pop() # REturn\n",
    "#A B\n",
    "names"
   ]
  },
  {
   "cell_type": "code",
   "execution_count": 25,
   "metadata": {},
   "outputs": [
    {
     "data": {
      "text/plain": [
       "['A', 'B']"
      ]
     },
     "execution_count": 25,
     "metadata": {},
     "output_type": "execute_result"
    }
   ],
   "source": [
    "names =[\"A\",\"B\",\"C\",\"C\",\"D\"]\n",
    "del names[-1] # REturn\n",
    "del names[-1] # REturn\n",
    "del names[-1] # REturn\n",
    "#A B\n",
    "names"
   ]
  },
  {
   "cell_type": "code",
   "execution_count": 27,
   "metadata": {},
   "outputs": [
    {
     "ename": "SyntaxError",
     "evalue": "invalid syntax (<ipython-input-27-ed8eb65e20ee>, line 3)",
     "output_type": "error",
     "traceback": [
      "\u001b[1;36m  File \u001b[1;32m\"<ipython-input-27-ed8eb65e20ee>\"\u001b[1;36m, line \u001b[1;32m3\u001b[0m\n\u001b[1;33m    l1.append(del names[-1]) # REturn\u001b[0m\n\u001b[1;37m                ^\u001b[0m\n\u001b[1;31mSyntaxError\u001b[0m\u001b[1;31m:\u001b[0m invalid syntax\n"
     ]
    }
   ],
   "source": [
    "l1=[]\n",
    "names =[\"A\",\"B\",\"C\",\"C\",\"D\"]\n",
    "l1.append(del names[-1]) # REturn\n",
    "l1.append(del names[-1]) # REturn\n",
    "l1.append(del names[-1])  # REturn\n",
    "#A B\n",
    "names"
   ]
  },
  {
   "cell_type": "code",
   "execution_count": 30,
   "metadata": {},
   "outputs": [
    {
     "name": "stdout",
     "output_type": "stream",
     "text": [
      "['A', 'B', 'C', 'D', 'E']\n",
      "['A', 'B']\n",
      "['E', 'D', 'C']\n"
     ]
    }
   ],
   "source": [
    "l1=[]\n",
    "names =[\"A\",\"B\",\"C\",\"D\",\"E\"]\n",
    "print(names)\n",
    "a=names.pop()\n",
    "l1.append(a) # REturn\n",
    "\n",
    "a=names.pop()\n",
    "l1.append(a) # REturn\n",
    "\n",
    "a=names.pop()\n",
    "l1.append(a)  # REturn\n",
    "#A B\n",
    "print(names)\n",
    "print(l1)"
   ]
  },
  {
   "cell_type": "code",
   "execution_count": 32,
   "metadata": {},
   "outputs": [
    {
     "name": "stdout",
     "output_type": "stream",
     "text": [
      "pakistan\n",
      "None\n"
     ]
    }
   ],
   "source": [
    "a = print(\"pakistan\") # print is not the return function \n",
    "print(a)"
   ]
  },
  {
   "cell_type": "code",
   "execution_count": 33,
   "metadata": {},
   "outputs": [
    {
     "name": "stdout",
     "output_type": "stream",
     "text": [
      "4\n"
     ]
    }
   ],
   "source": [
    "l1=[1,2,3,4]\n",
    "a=l1.pop()\n",
    "print(a)"
   ]
  },
  {
   "cell_type": "code",
   "execution_count": 34,
   "metadata": {},
   "outputs": [
    {
     "name": "stdout",
     "output_type": "stream",
     "text": [
      "c\n"
     ]
    }
   ],
   "source": [
    "l1=[\"A\",\"B\",\"c\",\"D\"]\n",
    "a=l1.pop(2)\n",
    "print(a)"
   ]
  },
  {
   "cell_type": "code",
   "execution_count": 35,
   "metadata": {},
   "outputs": [
    {
     "name": "stdout",
     "output_type": "stream",
     "text": [
      "B\n"
     ]
    }
   ],
   "source": [
    "l1=[\"A\",\"B\",\"c\",\"D\"]\n",
    "a=l1.pop(l1.index(\"B\"))\n",
    "print(a)"
   ]
  },
  {
   "cell_type": "code",
   "execution_count": 37,
   "metadata": {},
   "outputs": [
    {
     "name": "stdout",
     "output_type": "stream",
     "text": [
      "None\n"
     ]
    }
   ],
   "source": [
    "l1=[\"A\",\"B\",\"c\",\"D\"]\n",
    "a=l1.remove(\"B\") # non return able / void function \n",
    "print(a)"
   ]
  },
  {
   "cell_type": "code",
   "execution_count": 40,
   "metadata": {},
   "outputs": [
    {
     "name": "stdout",
     "output_type": "stream",
     "text": [
      "['A', 'B', 'c', 'D', 'Z', 'Y', 'X']\n",
      "['X', 'Y', 'Z', 'D', 'c', 'B', 'A']\n"
     ]
    }
   ],
   "source": [
    "l1=[\"A\",\"B\",\"c\",\"D\",\"Z\",\"Y\",\"X\"]\n",
    "print(l1)\n",
    "l1.reverse()\n",
    "print(l1)"
   ]
  },
  {
   "cell_type": "code",
   "execution_count": 42,
   "metadata": {},
   "outputs": [
    {
     "name": "stdout",
     "output_type": "stream",
     "text": [
      "['A', 'B', 'C', 'D', 'Z', 'Y', 'X']\n",
      "['A', 'B', 'C', 'D', 'X', 'Y', 'Z']\n"
     ]
    }
   ],
   "source": [
    "l1=[\"A\",\"B\",\"C\",\"D\",\"Z\",\"Y\",\"X\"]\n",
    "print(l1)\n",
    "l1.sort()\n",
    "print(l1)"
   ]
  },
  {
   "cell_type": "code",
   "execution_count": 44,
   "metadata": {},
   "outputs": [
    {
     "name": "stdout",
     "output_type": "stream",
     "text": [
      "['A', 'B', 'C', 'D', 'Z', 'Y', 'X']\n",
      "['Z', 'Y', 'X', 'D', 'C', 'B', 'A']\n"
     ]
    }
   ],
   "source": [
    "l1=[\"A\",\"B\",\"C\",\"D\",\"Z\",\"Y\",\"X\"]\n",
    "print(l1)\n",
    "l1.sort()\n",
    "l1.reverse()\n",
    "print(l1)"
   ]
  },
  {
   "cell_type": "code",
   "execution_count": 45,
   "metadata": {},
   "outputs": [
    {
     "name": "stdout",
     "output_type": "stream",
     "text": [
      "['A', 'B', 'C', 'D', 'Z', 'Y', 'X']\n",
      "['Z', 'Y', 'X', 'D', 'C', 'B', 'A']\n"
     ]
    }
   ],
   "source": [
    "l1=[\"A\",\"B\",\"C\",\"D\",\"Z\",\"Y\",\"X\"]\n",
    "print(l1)\n",
    "l1.sort(reverse = True)\n",
    "print(l1)"
   ]
  },
  {
   "cell_type": "code",
   "execution_count": 46,
   "metadata": {},
   "outputs": [
    {
     "data": {
      "text/plain": [
       "['A', 'B', 'C', 'D', 'Z', 'Y', 'X', 1, 4, 6]"
      ]
     },
     "execution_count": 46,
     "metadata": {},
     "output_type": "execute_result"
    }
   ],
   "source": [
    "l1=[\"A\",\"B\",\"C\",\"D\",\"Z\",\"Y\",\"X\"]\n",
    "l1.__add__([1,4,6])"
   ]
  },
  {
   "cell_type": "code",
   "execution_count": 50,
   "metadata": {},
   "outputs": [
    {
     "ename": "TypeError",
     "evalue": "list indices must be integers or slices, not list",
     "output_type": "error",
     "traceback": [
      "\u001b[1;31m---------------------------------------------------------------------------\u001b[0m",
      "\u001b[1;31mTypeError\u001b[0m                                 Traceback (most recent call last)",
      "\u001b[1;32m<ipython-input-50-31cb53e7b4a0>\u001b[0m in \u001b[0;36m<module>\u001b[1;34m\u001b[0m\n\u001b[0;32m      1\u001b[0m \u001b[0ml1\u001b[0m\u001b[1;33m=\u001b[0m\u001b[1;33m[\u001b[0m\u001b[1;34m\"A\"\u001b[0m\u001b[1;33m,\u001b[0m\u001b[1;34m\"B\"\u001b[0m\u001b[1;33m,\u001b[0m\u001b[1;34m\"C\"\u001b[0m\u001b[1;33m,\u001b[0m\u001b[1;34m\"D\"\u001b[0m\u001b[1;33m,\u001b[0m\u001b[1;34m\"Z\"\u001b[0m\u001b[1;33m,\u001b[0m\u001b[1;34m\"Y\"\u001b[0m\u001b[1;33m,\u001b[0m\u001b[1;34m\"X\"\u001b[0m\u001b[1;33m]\u001b[0m\u001b[1;33m\u001b[0m\u001b[1;33m\u001b[0m\u001b[0m\n\u001b[1;32m----> 2\u001b[1;33m \u001b[0ml1\u001b[0m\u001b[1;33m.\u001b[0m\u001b[0m__delitem__\u001b[0m\u001b[1;33m(\u001b[0m\u001b[1;33m[\u001b[0m\u001b[1;36m1\u001b[0m\u001b[1;33m]\u001b[0m\u001b[1;33m)\u001b[0m\u001b[1;33m\u001b[0m\u001b[1;33m\u001b[0m\u001b[0m\n\u001b[0m\u001b[0;32m      3\u001b[0m \u001b[0mprint\u001b[0m\u001b[1;33m(\u001b[0m\u001b[0ml1\u001b[0m\u001b[1;33m)\u001b[0m\u001b[1;33m\u001b[0m\u001b[1;33m\u001b[0m\u001b[0m\n",
      "\u001b[1;31mTypeError\u001b[0m: list indices must be integers or slices, not list"
     ]
    }
   ],
   "source": [
    "l1=[\"A\",\"B\",\"C\",\"D\",\"Z\",\"Y\",\"X\"]\n",
    "l1.__delitem__([1])\n",
    "print(l1)"
   ]
  },
  {
   "cell_type": "code",
   "execution_count": 53,
   "metadata": {},
   "outputs": [
    {
     "data": {
      "text/plain": [
       "'Built-in mutable sequence.\\n\\nIf no argument is given, the constructor creates a new empty list.\\nThe argument must be an iterable if specified.'"
      ]
     },
     "execution_count": 53,
     "metadata": {},
     "output_type": "execute_result"
    }
   ],
   "source": [
    "l1 = [\"A\",\"B\",\"C\"]\n",
    "l1.__doc__"
   ]
  },
  {
   "cell_type": "code",
   "execution_count": 57,
   "metadata": {},
   "outputs": [
    {
     "name": "stdout",
     "output_type": "stream",
     "text": [
      "True\n",
      "True\n",
      "<method-wrapper '__len__' of list object at 0x0000021D9BE3B248>\n"
     ]
    }
   ],
   "source": [
    "l1=[1,2,3]\n",
    "l2=[2,3,4]\n",
    "l3=[5,6,7]\n",
    "l4=[1,2,3]\n",
    "print(l1.__eq__(l4))\n",
    "print(l1.__ge__(l4))\n",
    "print(l1.__len__)"
   ]
  },
  {
   "cell_type": "code",
   "execution_count": 58,
   "metadata": {},
   "outputs": [
    {
     "name": "stdout",
     "output_type": "stream",
     "text": [
      "Help on class list in module builtins:\n",
      "\n",
      "class list(object)\n",
      " |  list(iterable=(), /)\n",
      " |  \n",
      " |  Built-in mutable sequence.\n",
      " |  \n",
      " |  If no argument is given, the constructor creates a new empty list.\n",
      " |  The argument must be an iterable if specified.\n",
      " |  \n",
      " |  Methods defined here:\n",
      " |  \n",
      " |  __add__(self, value, /)\n",
      " |      Return self+value.\n",
      " |  \n",
      " |  __contains__(self, key, /)\n",
      " |      Return key in self.\n",
      " |  \n",
      " |  __delitem__(self, key, /)\n",
      " |      Delete self[key].\n",
      " |  \n",
      " |  __eq__(self, value, /)\n",
      " |      Return self==value.\n",
      " |  \n",
      " |  __ge__(self, value, /)\n",
      " |      Return self>=value.\n",
      " |  \n",
      " |  __getattribute__(self, name, /)\n",
      " |      Return getattr(self, name).\n",
      " |  \n",
      " |  __getitem__(...)\n",
      " |      x.__getitem__(y) <==> x[y]\n",
      " |  \n",
      " |  __gt__(self, value, /)\n",
      " |      Return self>value.\n",
      " |  \n",
      " |  __iadd__(self, value, /)\n",
      " |      Implement self+=value.\n",
      " |  \n",
      " |  __imul__(self, value, /)\n",
      " |      Implement self*=value.\n",
      " |  \n",
      " |  __init__(self, /, *args, **kwargs)\n",
      " |      Initialize self.  See help(type(self)) for accurate signature.\n",
      " |  \n",
      " |  __iter__(self, /)\n",
      " |      Implement iter(self).\n",
      " |  \n",
      " |  __le__(self, value, /)\n",
      " |      Return self<=value.\n",
      " |  \n",
      " |  __len__(self, /)\n",
      " |      Return len(self).\n",
      " |  \n",
      " |  __lt__(self, value, /)\n",
      " |      Return self<value.\n",
      " |  \n",
      " |  __mul__(self, value, /)\n",
      " |      Return self*value.\n",
      " |  \n",
      " |  __ne__(self, value, /)\n",
      " |      Return self!=value.\n",
      " |  \n",
      " |  __repr__(self, /)\n",
      " |      Return repr(self).\n",
      " |  \n",
      " |  __reversed__(self, /)\n",
      " |      Return a reverse iterator over the list.\n",
      " |  \n",
      " |  __rmul__(self, value, /)\n",
      " |      Return value*self.\n",
      " |  \n",
      " |  __setitem__(self, key, value, /)\n",
      " |      Set self[key] to value.\n",
      " |  \n",
      " |  __sizeof__(self, /)\n",
      " |      Return the size of the list in memory, in bytes.\n",
      " |  \n",
      " |  append(self, object, /)\n",
      " |      Append object to the end of the list.\n",
      " |  \n",
      " |  clear(self, /)\n",
      " |      Remove all items from list.\n",
      " |  \n",
      " |  copy(self, /)\n",
      " |      Return a shallow copy of the list.\n",
      " |  \n",
      " |  count(self, value, /)\n",
      " |      Return number of occurrences of value.\n",
      " |  \n",
      " |  extend(self, iterable, /)\n",
      " |      Extend list by appending elements from the iterable.\n",
      " |  \n",
      " |  index(self, value, start=0, stop=9223372036854775807, /)\n",
      " |      Return first index of value.\n",
      " |      \n",
      " |      Raises ValueError if the value is not present.\n",
      " |  \n",
      " |  insert(self, index, object, /)\n",
      " |      Insert object before index.\n",
      " |  \n",
      " |  pop(self, index=-1, /)\n",
      " |      Remove and return item at index (default last).\n",
      " |      \n",
      " |      Raises IndexError if list is empty or index is out of range.\n",
      " |  \n",
      " |  remove(self, value, /)\n",
      " |      Remove first occurrence of value.\n",
      " |      \n",
      " |      Raises ValueError if the value is not present.\n",
      " |  \n",
      " |  reverse(self, /)\n",
      " |      Reverse *IN PLACE*.\n",
      " |  \n",
      " |  sort(self, /, *, key=None, reverse=False)\n",
      " |      Stable sort *IN PLACE*.\n",
      " |  \n",
      " |  ----------------------------------------------------------------------\n",
      " |  Static methods defined here:\n",
      " |  \n",
      " |  __new__(*args, **kwargs) from builtins.type\n",
      " |      Create and return a new object.  See help(type) for accurate signature.\n",
      " |  \n",
      " |  ----------------------------------------------------------------------\n",
      " |  Data and other attributes defined here:\n",
      " |  \n",
      " |  __hash__ = None\n",
      "\n"
     ]
    }
   ],
   "source": [
    "help(list)"
   ]
  },
  {
   "cell_type": "code",
   "execution_count": null,
   "metadata": {},
   "outputs": [],
   "source": [
    "#TUPLE"
   ]
  },
  {
   "cell_type": "code",
   "execution_count": null,
   "metadata": {},
   "outputs": [],
   "source": [
    "l1={\"A\",\"B\",\"C\"}\n"
   ]
  },
  {
   "cell_type": "code",
   "execution_count": 59,
   "metadata": {},
   "outputs": [],
   "source": [
    "#Loop(While , for)\n",
    "#Counter\n",
    "#Logic\n",
    "#increment / Decrement"
   ]
  },
  {
   "cell_type": "code",
   "execution_count": 62,
   "metadata": {},
   "outputs": [
    {
     "name": "stdout",
     "output_type": "stream",
     "text": [
      "Pakistan 1\n",
      "Pakistan 2\n",
      "Pakistan 3\n",
      "Pakistan 4\n",
      "Pakistan 5\n",
      "Pakistan 6\n",
      "Pakistan 7\n",
      "Pakistan 8\n",
      "Pakistan 9\n",
      "Pakistan 10\n"
     ]
    }
   ],
   "source": [
    "counter=1\n",
    "while counter <=10:\n",
    "    print(\"Pakistan\",counter)\n",
    "    counter +=1"
   ]
  },
  {
   "cell_type": "code",
   "execution_count": 63,
   "metadata": {},
   "outputs": [
    {
     "name": "stdout",
     "output_type": "stream",
     "text": [
      "Pakistan 1000\n",
      "Pakistan 999\n",
      "Pakistan 998\n",
      "Pakistan 997\n",
      "Pakistan 996\n",
      "Pakistan 995\n",
      "Pakistan 994\n",
      "Pakistan 993\n",
      "Pakistan 992\n",
      "Pakistan 991\n",
      "Pakistan 990\n"
     ]
    }
   ],
   "source": [
    "counter=1000 #counter\n",
    "while counter >=990: #logic \n",
    "    print(\"Pakistan\",counter)\n",
    "    counter -=1 #increment"
   ]
  },
  {
   "cell_type": "code",
   "execution_count": 64,
   "metadata": {},
   "outputs": [
    {
     "data": {
      "text/plain": [
       "[1, 2, 3, 4, 5, 6, 7, 8, 9, 10]"
      ]
     },
     "execution_count": 64,
     "metadata": {},
     "output_type": "execute_result"
    }
   ],
   "source": [
    "list(range(1,11))"
   ]
  },
  {
   "cell_type": "code",
   "execution_count": 66,
   "metadata": {},
   "outputs": [
    {
     "name": "stdout",
     "output_type": "stream",
     "text": [
      "pakisatn 1\n",
      "pakisatn 2\n",
      "pakisatn 3\n",
      "pakisatn 4\n",
      "pakisatn 5\n",
      "pakisatn 6\n",
      "pakisatn 7\n",
      "pakisatn 8\n",
      "pakisatn 9\n",
      "pakisatn 10\n"
     ]
    }
   ],
   "source": [
    "for i in range(1,11):\n",
    "    print(\"pakisatn\",i)"
   ]
  },
  {
   "cell_type": "code",
   "execution_count": 68,
   "metadata": {},
   "outputs": [
    {
     "data": {
      "text/plain": [
       "[1, 2, 3, 4, 5, 6, 7, 8, 9, 10]"
      ]
     },
     "execution_count": 68,
     "metadata": {},
     "output_type": "execute_result"
    }
   ],
   "source": [
    "[i for i in range(1,11)]"
   ]
  },
  {
   "cell_type": "code",
   "execution_count": 69,
   "metadata": {},
   "outputs": [
    {
     "data": {
      "text/plain": [
       "['pakistan1',\n",
       " 'pakistan2',\n",
       " 'pakistan3',\n",
       " 'pakistan4',\n",
       " 'pakistan5',\n",
       " 'pakistan6',\n",
       " 'pakistan7',\n",
       " 'pakistan8',\n",
       " 'pakistan9',\n",
       " 'pakistan10']"
      ]
     },
     "execution_count": 69,
     "metadata": {},
     "output_type": "execute_result"
    }
   ],
   "source": [
    "[\"pakistan\"+str(i) for i in range(1,11)]"
   ]
  },
  {
   "cell_type": "code",
   "execution_count": 79,
   "metadata": {},
   "outputs": [
    {
     "name": "stdout",
     "output_type": "stream",
     "text": [
      "2 X 1 = 2\n",
      "2 X 2 = 4\n",
      "2 X 3 = 6\n",
      "2 X 4 = 8\n",
      "2 X 5 = 10\n",
      "2 X 6 = 12\n",
      "2 X 7 = 14\n",
      "2 X 8 = 16\n",
      "2 X 9 = 18\n",
      "2 X 10 = 20\n"
     ]
    }
   ],
   "source": [
    "for i in range(1,11):\n",
    "    print(\"2 X\",i,\"=\",2*i)"
   ]
  },
  {
   "cell_type": "code",
   "execution_count": 78,
   "metadata": {},
   "outputs": [
    {
     "name": "stdout",
     "output_type": "stream",
     "text": [
      "2 X 1  = 2\n",
      "2 X 2  = 4\n",
      "2 X 3  = 6\n",
      "2 X 4  = 8\n",
      "2 X 5  = 10\n",
      "2 X 6  = 12\n",
      "2 X 7  = 14\n",
      "2 X 8  = 16\n",
      "2 X 9  = 18\n",
      "2 X 10  = 20\n"
     ]
    }
   ],
   "source": [
    "for i in range(1,11):\n",
    "    print(\"2 X \"+str(i),\" = \"+str(2*i))"
   ]
  },
  {
   "cell_type": "code",
   "execution_count": 96,
   "metadata": {},
   "outputs": [
    {
     "name": "stdout",
     "output_type": "stream",
     "text": [
      "Table Of :7\n",
      "7 X 1 = 7\n",
      "7 X 2 = 14\n",
      "7 X 3 = 21\n",
      "7 X 4 = 28\n",
      "7 X 5 = 35\n",
      "7 X 6 = 42\n",
      "7 X 7 = 49\n",
      "7 X 8 = 56\n",
      "7 X 9 = 63\n",
      "7 X 10 = 70\n"
     ]
    }
   ],
   "source": [
    "a = int(input(\"Table Of :\"))\n",
    "for i in range(1,11):\n",
    "    print(a,\"X\",i,\"=\",i*a)"
   ]
  },
  {
   "cell_type": "code",
   "execution_count": 98,
   "metadata": {},
   "outputs": [
    {
     "name": "stdout",
     "output_type": "stream",
     "text": [
      "input number4\n",
      "1X 1 = 1\n",
      "1X 2 = 2\n",
      "1X 3 = 3\n",
      "1X 4 = 4\n",
      "1X 5 = 5\n",
      "1X 6 = 6\n",
      "1X 7 = 7\n",
      "1X 8 = 8\n",
      "1X 9 = 9\n",
      "1X 10 = 10\n",
      "2X 1 = 2\n",
      "2X 2 = 4\n",
      "2X 3 = 6\n",
      "2X 4 = 8\n",
      "2X 5 = 10\n",
      "2X 6 = 12\n",
      "2X 7 = 14\n",
      "2X 8 = 16\n",
      "2X 9 = 18\n",
      "2X 10 = 20\n",
      "3X 1 = 3\n",
      "3X 2 = 6\n",
      "3X 3 = 9\n",
      "3X 4 = 12\n",
      "3X 5 = 15\n",
      "3X 6 = 18\n",
      "3X 7 = 21\n",
      "3X 8 = 24\n",
      "3X 9 = 27\n",
      "3X 10 = 30\n",
      "4X 1 = 4\n",
      "4X 2 = 8\n",
      "4X 3 = 12\n",
      "4X 4 = 16\n",
      "4X 5 = 20\n",
      "4X 6 = 24\n",
      "4X 7 = 28\n",
      "4X 8 = 32\n",
      "4X 9 = 36\n",
      "4X 10 = 40\n"
     ]
    }
   ],
   "source": [
    "user_input = int(input(\"input number\"))\n",
    "\n",
    "for t in range(1,user_input + 1):\n",
    "    for n in range(1,11):\n",
    "        print(f'{t}X {n} = {t*n}')"
   ]
  },
  {
   "cell_type": "code",
   "execution_count": 103,
   "metadata": {},
   "outputs": [
    {
     "name": "stdout",
     "output_type": "stream",
     "text": [
      "Enter number4\n",
      "1X 1 = 1\t2X 1 = 2\t3X 1 = 3\t4X 1 = 4\t\n",
      "1X 2 = 2\t2X 2 = 4\t3X 2 = 6\t4X 2 = 8\t\n",
      "1X 3 = 3\t2X 3 = 6\t3X 3 = 9\t4X 3 = 12\t\n",
      "1X 4 = 4\t2X 4 = 8\t3X 4 = 12\t4X 4 = 16\t\n",
      "1X 5 = 5\t2X 5 = 10\t3X 5 = 15\t4X 5 = 20\t\n",
      "1X 6 = 6\t2X 6 = 12\t3X 6 = 18\t4X 6 = 24\t\n",
      "1X 7 = 7\t2X 7 = 14\t3X 7 = 21\t4X 7 = 28\t\n",
      "1X 8 = 8\t2X 8 = 16\t3X 8 = 24\t4X 8 = 32\t\n",
      "1X 9 = 9\t2X 9 = 18\t3X 9 = 27\t4X 9 = 36\t\n",
      "1X 10 = 10\t2X 10 = 20\t3X 10 = 30\t4X 10 = 40\t\n"
     ]
    }
   ],
   "source": [
    "user_input = int(input(\"Enter number\"))\n",
    "\n",
    "for r in range(1,11):\n",
    "    for t in range(1,user_input + 1):\n",
    "        print(f'{t}X {r} = {r*t}',end='\\t')\n",
    "    print()"
   ]
  },
  {
   "cell_type": "code",
   "execution_count": 107,
   "metadata": {},
   "outputs": [
    {
     "name": "stdout",
     "output_type": "stream",
     "text": [
      "Enter starting table3\n",
      "Enter ending table8\n",
      "3X 1 = 3\t4X 1 = 4\t5X 1 = 5\t6X 1 = 6\t7X 1 = 7\t8X 1 = 8\t\n",
      "3X 2 = 6\t4X 2 = 8\t5X 2 = 10\t6X 2 = 12\t7X 2 = 14\t8X 2 = 16\t\n",
      "3X 3 = 9\t4X 3 = 12\t5X 3 = 15\t6X 3 = 18\t7X 3 = 21\t8X 3 = 24\t\n",
      "3X 4 = 12\t4X 4 = 16\t5X 4 = 20\t6X 4 = 24\t7X 4 = 28\t8X 4 = 32\t\n",
      "3X 5 = 15\t4X 5 = 20\t5X 5 = 25\t6X 5 = 30\t7X 5 = 35\t8X 5 = 40\t\n",
      "3X 6 = 18\t4X 6 = 24\t5X 6 = 30\t6X 6 = 36\t7X 6 = 42\t8X 6 = 48\t\n",
      "3X 7 = 21\t4X 7 = 28\t5X 7 = 35\t6X 7 = 42\t7X 7 = 49\t8X 7 = 56\t\n",
      "3X 8 = 24\t4X 8 = 32\t5X 8 = 40\t6X 8 = 48\t7X 8 = 56\t8X 8 = 64\t\n",
      "3X 9 = 27\t4X 9 = 36\t5X 9 = 45\t6X 9 = 54\t7X 9 = 63\t8X 9 = 72\t\n",
      "3X 10 = 30\t4X 10 = 40\t5X 10 = 50\t6X 10 = 60\t7X 10 = 70\t8X 10 = 80\t\n",
      "3X 11 = 33\t4X 11 = 44\t5X 11 = 55\t6X 11 = 66\t7X 11 = 77\t8X 11 = 88\t\n",
      "3X 12 = 36\t4X 12 = 48\t5X 12 = 60\t6X 12 = 72\t7X 12 = 84\t8X 12 = 96\t\n",
      "3X 13 = 39\t4X 13 = 52\t5X 13 = 65\t6X 13 = 78\t7X 13 = 91\t8X 13 = 104\t\n",
      "3X 14 = 42\t4X 14 = 56\t5X 14 = 70\t6X 14 = 84\t7X 14 = 98\t8X 14 = 112\t\n",
      "3X 15 = 45\t4X 15 = 60\t5X 15 = 75\t6X 15 = 90\t7X 15 = 105\t8X 15 = 120\t\n",
      "3X 16 = 48\t4X 16 = 64\t5X 16 = 80\t6X 16 = 96\t7X 16 = 112\t8X 16 = 128\t\n",
      "3X 17 = 51\t4X 17 = 68\t5X 17 = 85\t6X 17 = 102\t7X 17 = 119\t8X 17 = 136\t\n",
      "3X 18 = 54\t4X 18 = 72\t5X 18 = 90\t6X 18 = 108\t7X 18 = 126\t8X 18 = 144\t\n",
      "3X 19 = 57\t4X 19 = 76\t5X 19 = 95\t6X 19 = 114\t7X 19 = 133\t8X 19 = 152\t\n",
      "3X 20 = 60\t4X 20 = 80\t5X 20 = 100\t6X 20 = 120\t7X 20 = 140\t8X 20 = 160\t\n"
     ]
    }
   ],
   "source": [
    "user_input1 = int(input(\"Enter starting table\"))\n",
    "user_input = int(input(\"Enter ending table\"))\n",
    "for r in range(1,21):\n",
    "    for t in range(user_input1,user_input + 1):\n",
    "        print(f'{t}X {r} = {r*t}',end='\\t')\n",
    "    print()"
   ]
  },
  {
   "cell_type": "code",
   "execution_count": 108,
   "metadata": {},
   "outputs": [
    {
     "name": "stdout",
     "output_type": "stream",
     "text": [
      "Enter number19\n",
      "1X 1 = 1\t2X 1 = 2\t3X 1 = 3\t4X 1 = 4\t5X 1 = 5\t6X 1 = 6\t7X 1 = 7\t8X 1 = 8\t9X 1 = 9\t10X 1 = 10\t11X 1 = 11\t12X 1 = 12\t13X 1 = 13\t14X 1 = 14\t15X 1 = 15\t16X 1 = 16\t17X 1 = 17\t18X 1 = 18\t19X 1 = 19\t\n",
      "1X 2 = 2\t2X 2 = 4\t3X 2 = 6\t4X 2 = 8\t5X 2 = 10\t6X 2 = 12\t7X 2 = 14\t8X 2 = 16\t9X 2 = 18\t10X 2 = 20\t11X 2 = 22\t12X 2 = 24\t13X 2 = 26\t14X 2 = 28\t15X 2 = 30\t16X 2 = 32\t17X 2 = 34\t18X 2 = 36\t19X 2 = 38\t\n",
      "1X 3 = 3\t2X 3 = 6\t3X 3 = 9\t4X 3 = 12\t5X 3 = 15\t6X 3 = 18\t7X 3 = 21\t8X 3 = 24\t9X 3 = 27\t10X 3 = 30\t11X 3 = 33\t12X 3 = 36\t13X 3 = 39\t14X 3 = 42\t15X 3 = 45\t16X 3 = 48\t17X 3 = 51\t18X 3 = 54\t19X 3 = 57\t\n",
      "1X 4 = 4\t2X 4 = 8\t3X 4 = 12\t4X 4 = 16\t5X 4 = 20\t6X 4 = 24\t7X 4 = 28\t8X 4 = 32\t9X 4 = 36\t10X 4 = 40\t11X 4 = 44\t12X 4 = 48\t13X 4 = 52\t14X 4 = 56\t15X 4 = 60\t16X 4 = 64\t17X 4 = 68\t18X 4 = 72\t19X 4 = 76\t\n",
      "1X 5 = 5\t2X 5 = 10\t3X 5 = 15\t4X 5 = 20\t5X 5 = 25\t6X 5 = 30\t7X 5 = 35\t8X 5 = 40\t9X 5 = 45\t10X 5 = 50\t11X 5 = 55\t12X 5 = 60\t13X 5 = 65\t14X 5 = 70\t15X 5 = 75\t16X 5 = 80\t17X 5 = 85\t18X 5 = 90\t19X 5 = 95\t\n",
      "1X 6 = 6\t2X 6 = 12\t3X 6 = 18\t4X 6 = 24\t5X 6 = 30\t6X 6 = 36\t7X 6 = 42\t8X 6 = 48\t9X 6 = 54\t10X 6 = 60\t11X 6 = 66\t12X 6 = 72\t13X 6 = 78\t14X 6 = 84\t15X 6 = 90\t16X 6 = 96\t17X 6 = 102\t18X 6 = 108\t19X 6 = 114\t\n",
      "1X 7 = 7\t2X 7 = 14\t3X 7 = 21\t4X 7 = 28\t5X 7 = 35\t6X 7 = 42\t7X 7 = 49\t8X 7 = 56\t9X 7 = 63\t10X 7 = 70\t11X 7 = 77\t12X 7 = 84\t13X 7 = 91\t14X 7 = 98\t15X 7 = 105\t16X 7 = 112\t17X 7 = 119\t18X 7 = 126\t19X 7 = 133\t\n",
      "1X 8 = 8\t2X 8 = 16\t3X 8 = 24\t4X 8 = 32\t5X 8 = 40\t6X 8 = 48\t7X 8 = 56\t8X 8 = 64\t9X 8 = 72\t10X 8 = 80\t11X 8 = 88\t12X 8 = 96\t13X 8 = 104\t14X 8 = 112\t15X 8 = 120\t16X 8 = 128\t17X 8 = 136\t18X 8 = 144\t19X 8 = 152\t\n",
      "1X 9 = 9\t2X 9 = 18\t3X 9 = 27\t4X 9 = 36\t5X 9 = 45\t6X 9 = 54\t7X 9 = 63\t8X 9 = 72\t9X 9 = 81\t10X 9 = 90\t11X 9 = 99\t12X 9 = 108\t13X 9 = 117\t14X 9 = 126\t15X 9 = 135\t16X 9 = 144\t17X 9 = 153\t18X 9 = 162\t19X 9 = 171\t\n",
      "1X 10 = 10\t2X 10 = 20\t3X 10 = 30\t4X 10 = 40\t5X 10 = 50\t6X 10 = 60\t7X 10 = 70\t8X 10 = 80\t9X 10 = 90\t10X 10 = 100\t11X 10 = 110\t12X 10 = 120\t13X 10 = 130\t14X 10 = 140\t15X 10 = 150\t16X 10 = 160\t17X 10 = 170\t18X 10 = 180\t19X 10 = 190\t\n",
      "1X 11 = 11\t2X 11 = 22\t3X 11 = 33\t4X 11 = 44\t5X 11 = 55\t6X 11 = 66\t7X 11 = 77\t8X 11 = 88\t9X 11 = 99\t10X 11 = 110\t11X 11 = 121\t12X 11 = 132\t13X 11 = 143\t14X 11 = 154\t15X 11 = 165\t16X 11 = 176\t17X 11 = 187\t18X 11 = 198\t19X 11 = 209\t\n",
      "1X 12 = 12\t2X 12 = 24\t3X 12 = 36\t4X 12 = 48\t5X 12 = 60\t6X 12 = 72\t7X 12 = 84\t8X 12 = 96\t9X 12 = 108\t10X 12 = 120\t11X 12 = 132\t12X 12 = 144\t13X 12 = 156\t14X 12 = 168\t15X 12 = 180\t16X 12 = 192\t17X 12 = 204\t18X 12 = 216\t19X 12 = 228\t\n",
      "1X 13 = 13\t2X 13 = 26\t3X 13 = 39\t4X 13 = 52\t5X 13 = 65\t6X 13 = 78\t7X 13 = 91\t8X 13 = 104\t9X 13 = 117\t10X 13 = 130\t11X 13 = 143\t12X 13 = 156\t13X 13 = 169\t14X 13 = 182\t15X 13 = 195\t16X 13 = 208\t17X 13 = 221\t18X 13 = 234\t19X 13 = 247\t\n",
      "1X 14 = 14\t2X 14 = 28\t3X 14 = 42\t4X 14 = 56\t5X 14 = 70\t6X 14 = 84\t7X 14 = 98\t8X 14 = 112\t9X 14 = 126\t10X 14 = 140\t11X 14 = 154\t12X 14 = 168\t13X 14 = 182\t14X 14 = 196\t15X 14 = 210\t16X 14 = 224\t17X 14 = 238\t18X 14 = 252\t19X 14 = 266\t\n",
      "1X 15 = 15\t2X 15 = 30\t3X 15 = 45\t4X 15 = 60\t5X 15 = 75\t6X 15 = 90\t7X 15 = 105\t8X 15 = 120\t9X 15 = 135\t10X 15 = 150\t11X 15 = 165\t12X 15 = 180\t13X 15 = 195\t14X 15 = 210\t15X 15 = 225\t16X 15 = 240\t17X 15 = 255\t18X 15 = 270\t19X 15 = 285\t\n",
      "1X 16 = 16\t2X 16 = 32\t3X 16 = 48\t4X 16 = 64\t5X 16 = 80\t6X 16 = 96\t7X 16 = 112\t8X 16 = 128\t9X 16 = 144\t10X 16 = 160\t11X 16 = 176\t12X 16 = 192\t13X 16 = 208\t14X 16 = 224\t15X 16 = 240\t16X 16 = 256\t17X 16 = 272\t18X 16 = 288\t19X 16 = 304\t\n",
      "1X 17 = 17\t2X 17 = 34\t3X 17 = 51\t4X 17 = 68\t5X 17 = 85\t6X 17 = 102\t7X 17 = 119\t8X 17 = 136\t9X 17 = 153\t10X 17 = 170\t11X 17 = 187\t12X 17 = 204\t13X 17 = 221\t14X 17 = 238\t15X 17 = 255\t16X 17 = 272\t17X 17 = 289\t18X 17 = 306\t19X 17 = 323\t\n",
      "1X 18 = 18\t2X 18 = 36\t3X 18 = 54\t4X 18 = 72\t5X 18 = 90\t6X 18 = 108\t7X 18 = 126\t8X 18 = 144\t9X 18 = 162\t10X 18 = 180\t11X 18 = 198\t12X 18 = 216\t13X 18 = 234\t14X 18 = 252\t15X 18 = 270\t16X 18 = 288\t17X 18 = 306\t18X 18 = 324\t19X 18 = 342\t\n",
      "1X 19 = 19\t2X 19 = 38\t3X 19 = 57\t4X 19 = 76\t5X 19 = 95\t6X 19 = 114\t7X 19 = 133\t8X 19 = 152\t9X 19 = 171\t10X 19 = 190\t11X 19 = 209\t12X 19 = 228\t13X 19 = 247\t14X 19 = 266\t15X 19 = 285\t16X 19 = 304\t17X 19 = 323\t18X 19 = 342\t19X 19 = 361\t\n",
      "1X 20 = 20\t2X 20 = 40\t3X 20 = 60\t4X 20 = 80\t5X 20 = 100\t6X 20 = 120\t7X 20 = 140\t8X 20 = 160\t9X 20 = 180\t10X 20 = 200\t11X 20 = 220\t12X 20 = 240\t13X 20 = 260\t14X 20 = 280\t15X 20 = 300\t16X 20 = 320\t17X 20 = 340\t18X 20 = 360\t19X 20 = 380\t\n"
     ]
    }
   ],
   "source": [
    "user_input = int(input(\"Enter number\"))\n",
    "\n",
    "for r in range(1,21):\n",
    "    for t in range(1,user_input + 1):\n",
    "        print(f'{t}X {r} = {r*t}',end='\\t')\n",
    "    print()"
   ]
  },
  {
   "cell_type": "code",
   "execution_count": null,
   "metadata": {},
   "outputs": [],
   "source": []
  }
 ],
 "metadata": {
  "kernelspec": {
   "display_name": "Python 3",
   "language": "python",
   "name": "python3"
  },
  "language_info": {
   "codemirror_mode": {
    "name": "ipython",
    "version": 3
   },
   "file_extension": ".py",
   "mimetype": "text/x-python",
   "name": "python",
   "nbconvert_exporter": "python",
   "pygments_lexer": "ipython3",
   "version": "3.7.4"
  }
 },
 "nbformat": 4,
 "nbformat_minor": 2
}
