{
 "cells": [
  {
   "cell_type": "markdown",
   "metadata": {},
   "source": [
    "# Functions"
   ]
  },
  {
   "cell_type": "code",
   "execution_count": 3,
   "metadata": {},
   "outputs": [
    {
     "name": "stdout",
     "output_type": "stream",
     "text": [
      "Pakistan zinda bad\n",
      "Hello! Pakistan\n",
      "I love Pakistan\n",
      "Pakistan zinda bad\n",
      "Hello! Pakistan\n",
      "I love Pakistan\n",
      "Pakistan zinda bad\n",
      "Hello! Pakistan\n",
      "I love Pakistan\n",
      "Pakistan zinda bad\n",
      "Hello! Pakistan\n",
      "I love Pakistan\n"
     ]
    }
   ],
   "source": [
    "def abc(): #function decleration\n",
    "    print(\"Pakistan zinda bad\") # Body start statment1\n",
    "    print(\"Hello! Pakistan\") # statment 2\n",
    "    print(\"I love Pakistan\")# statment 3\n",
    "abc()\n",
    "abc()\n",
    "abc()\n",
    "abc()"
   ]
  },
  {
   "cell_type": "code",
   "execution_count": 7,
   "metadata": {},
   "outputs": [
    {
     "name": "stdout",
     "output_type": "stream",
     "text": [
      "\n",
      "    PIAIC ISLAMABAD\n",
      "    Student Id: 1\n",
      "    name: MRK\n",
      "    Father Name: MAK\n",
      "    Course: A.I\n",
      "    Timing: 12:00 - 3:00\n",
      "    \n",
      "\n",
      "    PIAIC ISLAMABAD\n",
      "    Student Id: 2\n",
      "    name: MRK\n",
      "    Father Name: MAK\n",
      "    Course: A.I\n",
      "    Timing: 12:00 - 3:00\n",
      "    \n",
      "\n",
      "    PIAIC ISLAMABAD\n",
      "    Student Id: 3\n",
      "    name: MRK\n",
      "    Father Name: MAK\n",
      "    Course: A.I\n",
      "    Timing: 12:00 - 3:00\n",
      "    \n"
     ]
    }
   ],
   "source": [
    "def id_card(sid, sname, fname, course, timing):\n",
    "    print(f\"\"\"\n",
    "    PIAIC ISLAMABAD\n",
    "    Student Id: {sid}\n",
    "    name: {sname}\n",
    "    Father Name: {fname}\n",
    "    Course: {course}\n",
    "    Timing: {timing}\n",
    "    \"\"\")\n",
    "id_card(1,\"MRK\",\"MAK\",\"A.I\",\"12:00 - 3:00\")\n",
    "id_card(2,\"MRK\",\"MAK\",\"A.I\",\"12:00 - 3:00\")\n",
    "id_card(3,\"MRK\",\"MAK\",\"A.I\",\"12:00 - 3:00\")"
   ]
  },
  {
   "cell_type": "markdown",
   "metadata": {},
   "source": [
    "# Optional Arguments#"
   ]
  },
  {
   "cell_type": "code",
   "execution_count": 8,
   "metadata": {},
   "outputs": [
    {
     "name": "stdout",
     "output_type": "stream",
     "text": [
      "5 0 0\n",
      "5\n"
     ]
    }
   ],
   "source": [
    "def pls(x, y=0, z=0):\n",
    "    print(x,y,z)\n",
    "    print(x+y+z)\n",
    "pls(5)"
   ]
  },
  {
   "cell_type": "code",
   "execution_count": 10,
   "metadata": {},
   "outputs": [
    {
     "name": "stdout",
     "output_type": "stream",
     "text": [
      "6 7 0\n",
      "13\n",
      "8 5 9\n",
      "22\n"
     ]
    },
    {
     "ename": "TypeError",
     "evalue": "pls() missing 1 required positional argument: 'x'",
     "output_type": "error",
     "traceback": [
      "\u001b[1;31m---------------------------------------------------------------------------\u001b[0m",
      "\u001b[1;31mTypeError\u001b[0m                                 Traceback (most recent call last)",
      "\u001b[1;32m<ipython-input-10-6a07acfcad2d>\u001b[0m in \u001b[0;36m<module>\u001b[1;34m\u001b[0m\n\u001b[0;32m      1\u001b[0m \u001b[0mpls\u001b[0m\u001b[1;33m(\u001b[0m\u001b[1;36m6\u001b[0m\u001b[1;33m,\u001b[0m\u001b[1;36m7\u001b[0m\u001b[1;33m)\u001b[0m\u001b[1;33m\u001b[0m\u001b[1;33m\u001b[0m\u001b[0m\n\u001b[0;32m      2\u001b[0m \u001b[0mpls\u001b[0m\u001b[1;33m(\u001b[0m\u001b[1;36m8\u001b[0m\u001b[1;33m,\u001b[0m\u001b[1;36m5\u001b[0m\u001b[1;33m,\u001b[0m\u001b[1;36m9\u001b[0m\u001b[1;33m)\u001b[0m\u001b[1;33m\u001b[0m\u001b[1;33m\u001b[0m\u001b[0m\n\u001b[1;32m----> 3\u001b[1;33m \u001b[0mpls\u001b[0m\u001b[1;33m(\u001b[0m\u001b[1;33m)\u001b[0m \u001b[1;31m#required argument must be added\u001b[0m\u001b[1;33m\u001b[0m\u001b[1;33m\u001b[0m\u001b[0m\n\u001b[0m",
      "\u001b[1;31mTypeError\u001b[0m: pls() missing 1 required positional argument: 'x'"
     ]
    }
   ],
   "source": [
    "pls(6,7)\n",
    "pls(8,5,9)\n",
    "pls() #required argument must be added  "
   ]
  },
  {
   "cell_type": "markdown",
   "metadata": {},
   "source": [
    "# Non Return Function"
   ]
  },
  {
   "cell_type": "code",
   "execution_count": 12,
   "metadata": {},
   "outputs": [
    {
     "name": "stdout",
     "output_type": "stream",
     "text": [
      "Pakistan\n",
      "None\n"
     ]
    }
   ],
   "source": [
    "a = print(\"Pakistan\") #print is non-return able function \n",
    "print(a)"
   ]
  },
  {
   "cell_type": "code",
   "execution_count": 13,
   "metadata": {},
   "outputs": [
    {
     "name": "stdout",
     "output_type": "stream",
     "text": [
      "5 7 9\n",
      "21\n",
      "None\n"
     ]
    }
   ],
   "source": [
    "b = pls(5,7,9)\n",
    "print(b)"
   ]
  },
  {
   "cell_type": "markdown",
   "metadata": {},
   "source": [
    "# Return Function"
   ]
  },
  {
   "cell_type": "code",
   "execution_count": 15,
   "metadata": {},
   "outputs": [
    {
     "name": "stdout",
     "output_type": "stream",
     "text": [
      "13 21\n"
     ]
    }
   ],
   "source": [
    "def pls(x=0, y=0, z=0):\n",
    "    return x+y+z\n",
    "a = pls(6,7)\n",
    "b = pls(5,7,9)\n",
    "print(a,b)"
   ]
  },
  {
   "cell_type": "code",
   "execution_count": 16,
   "metadata": {},
   "outputs": [
    {
     "name": "stdout",
     "output_type": "stream",
     "text": [
      "13 21\n"
     ]
    }
   ],
   "source": [
    "def pls(x=0, y=0, z=0):\n",
    "    return x+y+z # Always return first return statment\n",
    "    return x*y+z\n",
    "    return x*y*z\n",
    "a = pls(6,7)\n",
    "b = pls(5,7,9)\n",
    "print(a,b)"
   ]
  },
  {
   "cell_type": "code",
   "execution_count": 20,
   "metadata": {},
   "outputs": [
    {
     "name": "stdout",
     "output_type": "stream",
     "text": [
      "(13, 42, 0) (21, 44, 315)\n"
     ]
    }
   ],
   "source": [
    "def pls(x=0, y=0, z=0):\n",
    "    return x+y+z , x*y+z , x*y*z\n",
    "a = pls(6,7)\n",
    "b = pls(5,7,9)\n",
    "print(a,b)"
   ]
  },
  {
   "cell_type": "markdown",
   "metadata": {},
   "source": [
    "# Keyword Argument"
   ]
  },
  {
   "cell_type": "code",
   "execution_count": 24,
   "metadata": {},
   "outputs": [
    {
     "name": "stdout",
     "output_type": "stream",
     "text": [
      "\n",
      "    PIAIC ISLAMABAD\n",
      "    Student Id: 1\n",
      "    name: 12:00 - 3:00\n",
      "    Father Name: MRK\n",
      "    Course: MAK\n",
      "    Timing: A.I\n",
      "    \n"
     ]
    }
   ],
   "source": [
    "def id_card(sid, sname, fname, course, timing):\n",
    "    print(f\"\"\"\n",
    "    PIAIC ISLAMABAD\n",
    "    Student Id: {sid}\n",
    "    name: {sname}\n",
    "    Father Name: {fname}\n",
    "    Course: {course}\n",
    "    Timing: {timing}\n",
    "    \"\"\")\n",
    "id_card(1,\"12:00 - 3:00\",\"MRK\",\"MAK\",\"A.I\")"
   ]
  },
  {
   "cell_type": "code",
   "execution_count": 25,
   "metadata": {},
   "outputs": [
    {
     "name": "stdout",
     "output_type": "stream",
     "text": [
      "\n",
      "    PIAIC ISLAMABAD\n",
      "    Student Id: 1\n",
      "    name: MRK\n",
      "    Father Name: MAK\n",
      "    Course: A.I\n",
      "    Timing: 12:00 - 3:00\n",
      "    \n"
     ]
    }
   ],
   "source": [
    "def id_card(sid, sname, fname, course, timing):\n",
    "    print(f\"\"\"\n",
    "    PIAIC ISLAMABAD\n",
    "    Student Id: {sid}\n",
    "    name: {sname}\n",
    "    Father Name: {fname}\n",
    "    Course: {course}\n",
    "    Timing: {timing}\n",
    "    \"\"\")\n",
    "id_card(sid=1,timing=\"12:00 - 3:00\",sname=\"MRK\",fname=\"MAK\",course=\"A.I\")"
   ]
  },
  {
   "cell_type": "code",
   "execution_count": 26,
   "metadata": {},
   "outputs": [
    {
     "name": "stdout",
     "output_type": "stream",
     "text": [
      "\n",
      "    PIAIC ISLAMABAD\n",
      "    Student Id: 1\n",
      "    name: MRK\n",
      "    Father Name: MAK\n",
      "    Course: A.I\n",
      "    Timing: 12:00 - 3:00\n",
      "    \n"
     ]
    }
   ],
   "source": [
    "def id_card(sid, sname, fname, course, timing):\n",
    "    print(f\"\"\"\n",
    "    PIAIC ISLAMABAD\n",
    "    Student Id: {sid}\n",
    "    name: {sname}\n",
    "    Father Name: {fname}\n",
    "    Course: {course}\n",
    "    Timing: {timing}\n",
    "    \"\"\")\n",
    "id_card(1,\"MRK\",timing=\"12:00 - 3:00\",fname=\"MAK\",course=\"A.I\")"
   ]
  },
  {
   "cell_type": "code",
   "execution_count": 27,
   "metadata": {},
   "outputs": [
    {
     "ename": "SyntaxError",
     "evalue": "positional argument follows keyword argument (<ipython-input-27-708bc3d02df4>, line 10)",
     "output_type": "error",
     "traceback": [
      "\u001b[1;36m  File \u001b[1;32m\"<ipython-input-27-708bc3d02df4>\"\u001b[1;36m, line \u001b[1;32m10\u001b[0m\n\u001b[1;33m    id_card(1,\"MRK\",fname=\"MAK\",course=\"A.I\",\"12:00 - 3:00\")\u001b[0m\n\u001b[1;37m                                            ^\u001b[0m\n\u001b[1;31mSyntaxError\u001b[0m\u001b[1;31m:\u001b[0m positional argument follows keyword argument\n"
     ]
    }
   ],
   "source": [
    "def id_card(sid, sname, fname, course, timing):\n",
    "    print(f\"\"\"\n",
    "    PIAIC ISLAMABAD\n",
    "    Student Id: {sid}\n",
    "    name: {sname}\n",
    "    Father Name: {fname}\n",
    "    Course: {course}\n",
    "    Timing: {timing}\n",
    "    \"\"\")\n",
    "id_card(1,\"MRK\",fname=\"MAK\",course=\"A.I\",\"12:00 - 3:00\") #positional arguments are not placed at the end "
   ]
  },
  {
   "cell_type": "code",
   "execution_count": 28,
   "metadata": {},
   "outputs": [
    {
     "ename": "TypeError",
     "evalue": "id_card() got multiple values for argument 'fname'",
     "output_type": "error",
     "traceback": [
      "\u001b[1;31m---------------------------------------------------------------------------\u001b[0m",
      "\u001b[1;31mTypeError\u001b[0m                                 Traceback (most recent call last)",
      "\u001b[1;32m<ipython-input-28-e0c7eeb36538>\u001b[0m in \u001b[0;36m<module>\u001b[1;34m\u001b[0m\n\u001b[0;32m      8\u001b[0m     \u001b[0mTiming\u001b[0m\u001b[1;33m:\u001b[0m \u001b[1;33m{\u001b[0m\u001b[0mtiming\u001b[0m\u001b[1;33m}\u001b[0m\u001b[1;33m\u001b[0m\u001b[1;33m\u001b[0m\u001b[0m\n\u001b[0;32m      9\u001b[0m     \"\"\")\n\u001b[1;32m---> 10\u001b[1;33m \u001b[0mid_card\u001b[0m\u001b[1;33m(\u001b[0m\u001b[1;36m1\u001b[0m\u001b[1;33m,\u001b[0m\u001b[1;34m\"MRK\"\u001b[0m\u001b[1;33m,\u001b[0m\u001b[1;34m\"12:00 - 3:00\"\u001b[0m\u001b[1;33m,\u001b[0m\u001b[0mfname\u001b[0m\u001b[1;33m=\u001b[0m\u001b[1;34m\"MAK\"\u001b[0m\u001b[1;33m,\u001b[0m\u001b[0mcourse\u001b[0m\u001b[1;33m=\u001b[0m\u001b[1;34m\"A.I\"\u001b[0m\u001b[1;33m)\u001b[0m\u001b[1;33m\u001b[0m\u001b[1;33m\u001b[0m\u001b[0m\n\u001b[0m",
      "\u001b[1;31mTypeError\u001b[0m: id_card() got multiple values for argument 'fname'"
     ]
    }
   ],
   "source": [
    "def id_card(sid, sname, fname, course, timing):\n",
    "    print(f\"\"\"\n",
    "    PIAIC ISLAMABAD\n",
    "    Student Id: {sid}\n",
    "    name: {sname}\n",
    "    Father Name: {fname}\n",
    "    Course: {course}\n",
    "    Timing: {timing}\n",
    "    \"\"\")\n",
    "id_card(1,\"MRK\",\"12:00 - 3:00\",fname=\"MAK\",course=\"A.I\")"
   ]
  },
  {
   "cell_type": "markdown",
   "metadata": {},
   "source": [
    "# Pass Argument by List"
   ]
  },
  {
   "cell_type": "code",
   "execution_count": 31,
   "metadata": {},
   "outputs": [
    {
     "name": "stdout",
     "output_type": "stream",
     "text": [
      "\n",
      "    PIAIC ISLAMABAD\n",
      "    Student Id: 0\n",
      "    name: A\n",
      "    Father Name: B\n",
      "    Course: C\n",
      "    Timing: D\n",
      "    \n",
      "\n",
      "    PIAIC ISLAMABAD\n",
      "    Student Id: 1\n",
      "    name: A1\n",
      "    Father Name: B1\n",
      "    Course: C1\n",
      "    Timing: D1\n",
      "    \n",
      "0 A B C D\n"
     ]
    }
   ],
   "source": [
    "def id_card(sid, sname, fname, course, timing):\n",
    "    print(f\"\"\"\n",
    "    PIAIC ISLAMABAD\n",
    "    Student Id: {sid}\n",
    "    name: {sname}\n",
    "    Father Name: {fname}\n",
    "    Course: {course}\n",
    "    Timing: {timing}\n",
    "    \"\"\")\n",
    "l1 = [0,\"A\",\"B\",\"C\",\"D\"] #list is used for optional arguments\n",
    "l2 = [1,\"A1\",\"B1\",\"C1\",\"D1\"]\n",
    "id_card(l1[0],l1[1],l1[2],l1[3],l1[4])\n",
    "id_card(*l2)\n",
    "print(*l1)"
   ]
  },
  {
   "cell_type": "markdown",
   "metadata": {},
   "source": [
    "# Pass Arguments By Dicitionary"
   ]
  },
  {
   "cell_type": "code",
   "execution_count": 35,
   "metadata": {},
   "outputs": [
    {
     "name": "stdout",
     "output_type": "stream",
     "text": [
      "\n",
      "    PIAIC ISLAMABAD\n",
      "    Student Id: 2\n",
      "    name: MRK\n",
      "    Father Name: MAK\n",
      "    Course: A.I\n",
      "    Timing: 12:00 - 3:00\n",
      "    \n"
     ]
    }
   ],
   "source": [
    "def id_card(sid, sname, fname, course, timing):\n",
    "    print(f\"\"\"\n",
    "    PIAIC ISLAMABAD\n",
    "    Student Id: {sid}\n",
    "    name: {sname}\n",
    "    Father Name: {fname}\n",
    "    Course: {course}\n",
    "    Timing: {timing}\n",
    "    \"\"\")\n",
    "d1 = {\n",
    "    'course' : 'A.I',\n",
    "    'sname':'MRK',\n",
    "    'fname': 'MAK',\n",
    "    'timing': '12:00 - 3:00',\n",
    "    'sid': 2,\n",
    "}\n",
    "id_card(**d1)"
   ]
  },
  {
   "cell_type": "markdown",
   "metadata": {},
   "source": [
    "# Optional Parameter with List"
   ]
  },
  {
   "cell_type": "code",
   "execution_count": 36,
   "metadata": {},
   "outputs": [
    {
     "name": "stdout",
     "output_type": "stream",
     "text": [
      "MRK\n",
      "(6, 5, 3, 2)\n",
      "16\n"
     ]
    }
   ],
   "source": [
    "\n",
    "    print(name)\n",
    "    print(number)\n",
    "    print(sum(number))\n",
    "abc(\"MRK\", 6,5,3,2)"
   ]
  },
  {
   "cell_type": "code",
   "execution_count": 39,
   "metadata": {},
   "outputs": [
    {
     "name": "stdout",
     "output_type": "stream",
     "text": [
      "MRK\n",
      "(6, 5, 3, 2)\n",
      "16\n"
     ]
    }
   ],
   "source": [
    "def abc(*number,name):\n",
    "    print(name)\n",
    "    print(number)\n",
    "    print(sum(number))\n",
    "abc(6,5,3,2, name=\"MRK\")"
   ]
  },
  {
   "cell_type": "markdown",
   "metadata": {},
   "source": [
    "# Optional Parameter with Dictionary"
   ]
  },
  {
   "cell_type": "code",
   "execution_count": 40,
   "metadata": {},
   "outputs": [
    {
     "name": "stdout",
     "output_type": "stream",
     "text": [
      "MRK\n",
      "{'a': 'aa', 'b': 'bb', 'c': 'cc'}\n"
     ]
    }
   ],
   "source": [
    "def abc(name, **kv):\n",
    "    print(name)\n",
    "    print(kv)\n",
    "abc('MRK', a='aa', b='bb', c='cc')"
   ]
  },
  {
   "cell_type": "code",
   "execution_count": 41,
   "metadata": {},
   "outputs": [
    {
     "name": "stdout",
     "output_type": "stream",
     "text": [
      "MRK\n",
      "{'a': 'aa', 'b': 'bb', 'c': 'cc'}\n",
      "Pakistan\n"
     ]
    }
   ],
   "source": [
    "def abc(name, **kv):\n",
    "    print(name)\n",
    "    print(kv)\n",
    "    if 'b' in kv.keys():\n",
    "        print(\"Pakistan\")\n",
    "abc('MRK', a='aa', b='bb', c='cc')"
   ]
  },
  {
   "cell_type": "code",
   "execution_count": 42,
   "metadata": {},
   "outputs": [
    {
     "ename": "SyntaxError",
     "evalue": "invalid syntax (<ipython-input-42-0d7c0cf333d2>, line 1)",
     "output_type": "error",
     "traceback": [
      "\u001b[1;36m  File \u001b[1;32m\"<ipython-input-42-0d7c0cf333d2>\"\u001b[1;36m, line \u001b[1;32m1\u001b[0m\n\u001b[1;33m    def abc(**kv,name):\u001b[0m\n\u001b[1;37m                    ^\u001b[0m\n\u001b[1;31mSyntaxError\u001b[0m\u001b[1;31m:\u001b[0m invalid syntax\n"
     ]
    }
   ],
   "source": [
    "def abc(**kv,name):\n",
    "    print(name)\n",
    "    print(kv)\n",
    "    if 'b' in kv.keys():\n",
    "        print(\"Pakistan\")\n",
    "abc(a='aa', b='bb', c='cc',name='MRK')"
   ]
  },
  {
   "cell_type": "markdown",
   "metadata": {},
   "source": [
    "# Recursive Function"
   ]
  },
  {
   "cell_type": "code",
   "execution_count": 45,
   "metadata": {
    "collapsed": true
   },
   "outputs": [
    {
     "data": {
      "text/plain": [
       "120"
      ]
     },
     "execution_count": 45,
     "metadata": {},
     "output_type": "execute_result"
    }
   ],
   "source": [
    "def xyz(n): # recurction is infinite , we must break it , it is defined in its self\n",
    "    if n==1:\n",
    "        return 1\n",
    "    return n * xyz(n-1)\n",
    "xyz(5)"
   ]
  },
  {
   "cell_type": "markdown",
   "metadata": {},
   "source": [
    "# Generator Funtion"
   ]
  },
  {
   "cell_type": "code",
   "execution_count": null,
   "metadata": {},
   "outputs": [],
   "source": [
    "print(\"abc\")"
   ]
  }
 ],
 "metadata": {
  "kernelspec": {
   "display_name": "Python 3",
   "language": "python",
   "name": "python3"
  },
  "language_info": {
   "codemirror_mode": {
    "name": "ipython",
    "version": 3
   },
   "file_extension": ".py",
   "mimetype": "text/x-python",
   "name": "python",
   "nbconvert_exporter": "python",
   "pygments_lexer": "ipython3",
   "version": "3.7.4"
  }
 },
 "nbformat": 4,
 "nbformat_minor": 2
}
