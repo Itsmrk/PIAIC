{
  "nbformat": 4,
  "nbformat_minor": 0,
  "metadata": {
    "colab": {
      "name": "002.Class3.ipynb",
      "provenance": [],
      "authorship_tag": "ABX9TyNgR1tc0AHvySlgLdIOJB9D",
      "include_colab_link": true
    },
    "kernelspec": {
      "name": "python3",
      "display_name": "Python 3"
    }
  },
  "cells": [
    {
      "cell_type": "markdown",
      "metadata": {
        "id": "view-in-github",
        "colab_type": "text"
      },
      "source": [
        "<a href=\"https://colab.research.google.com/github/Itsmrk/PIAIC/blob/master/002_Class3.ipynb\" target=\"_parent\"><img src=\"https://colab.research.google.com/assets/colab-badge.svg\" alt=\"Open In Colab\"/></a>"
      ]
    },
    {
      "cell_type": "code",
      "metadata": {
        "id": "4WK9EUd0DUrb",
        "colab_type": "code",
        "colab": {}
      },
      "source": [
        "Creat Structure \n",
        "Train Model \n",
        "Prediction "
      ],
      "execution_count": null,
      "outputs": []
    }
  ]
}