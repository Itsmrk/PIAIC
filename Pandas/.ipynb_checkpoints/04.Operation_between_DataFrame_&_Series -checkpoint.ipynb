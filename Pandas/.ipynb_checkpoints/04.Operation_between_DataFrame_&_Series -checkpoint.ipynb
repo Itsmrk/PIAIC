{
 "cells": [
  {
   "cell_type": "markdown",
   "metadata": {},
   "source": [
    "# Operation between DataFrame & Series "
   ]
  },
  {
   "cell_type": "code",
   "execution_count": 1,
   "metadata": {},
   "outputs": [],
   "source": [
    "import numpy as np \n",
    "import pandas as pd\n"
   ]
  },
  {
   "cell_type": "code",
   "execution_count": 2,
   "metadata": {},
   "outputs": [
    {
     "name": "stdout",
     "output_type": "stream",
     "text": [
      "          b     d     e\n",
      "Utah    0.0   1.0   2.0\n",
      "Ohio    3.0   4.0   5.0\n",
      "Texas   6.0   7.0   8.0\n",
      "Oregon  9.0  10.0  11.0\n"
     ]
    }
   ],
   "source": [
    "frame = pd.DataFrame(np.arange(12.).reshape((4,3)),\n",
    "                    columns = list('bde'),\n",
    "                    index = ['Utah','Ohio','Texas','Oregon'])\n",
    "#iloc syntax\n",
    "#iloc[start_row_pos:end_row_pos, start_column_pos: end_col_positin]\n",
    "print(frame)"
   ]
  },
  {
   "cell_type": "code",
   "execution_count": 9,
   "metadata": {},
   "outputs": [
    {
     "name": "stdout",
     "output_type": "stream",
     "text": [
      "b    0.0\n",
      "d    1.0\n",
      "e    2.0\n",
      "Name: Utah, dtype: float64\n",
      "\n",
      "[0. 1. 2.]\n",
      "\n",
      "Index(['b', 'd', 'e'], dtype='object')\n"
     ]
    }
   ],
   "source": [
    "series = frame.iloc[0]\n",
    "print(series)\n",
    "print()\n",
    "print(series.values)\n",
    "print()\n",
    "print(series.index)"
   ]
  },
  {
   "cell_type": "code",
   "execution_count": 10,
   "metadata": {},
   "outputs": [
    {
     "name": "stdout",
     "output_type": "stream",
     "text": [
      "          b    d    e\n",
      "Utah    0.0  0.0  0.0\n",
      "Ohio    3.0  3.0  3.0\n",
      "Texas   6.0  6.0  6.0\n",
      "Oregon  9.0  9.0  9.0\n"
     ]
    }
   ],
   "source": [
    "print(frame - series)"
   ]
  },
  {
   "cell_type": "code",
   "execution_count": 12,
   "metadata": {},
   "outputs": [
    {
     "name": "stdout",
     "output_type": "stream",
     "text": [
      "---------  Using new Series ------------------------\n",
      "Index(['b', 'd', 'e'], dtype='object') [1 2 3]\n",
      "\n",
      "          b    d    e\n",
      "Utah   -1.0 -1.0 -1.0\n",
      "Ohio    2.0  2.0  2.0\n",
      "Texas   5.0  5.0  5.0\n",
      "Oregon  8.0  8.0  8.0\n"
     ]
    }
   ],
   "source": [
    "print(\"---------  Using new Series ------------------------\")\n",
    "series = pd.Series([1,2,3],index = list('bde'))\n",
    "print(series.index ,series.values)\n",
    "print()\n",
    "print(frame - series)\n",
    "# it is row wise broadcasting operation "
   ]
  },
  {
   "cell_type": "code",
   "execution_count": null,
   "metadata": {},
   "outputs": [],
   "source": []
  }
 ],
 "metadata": {
  "kernelspec": {
   "display_name": "Python 3",
   "language": "python",
   "name": "python3"
  },
  "language_info": {
   "codemirror_mode": {
    "name": "ipython",
    "version": 3
   },
   "file_extension": ".py",
   "mimetype": "text/x-python",
   "name": "python",
   "nbconvert_exporter": "python",
   "pygments_lexer": "ipython3",
   "version": "3.7.6"
  }
 },
 "nbformat": 4,
 "nbformat_minor": 4
}
