{
 "cells": [
  {
   "cell_type": "code",
   "execution_count": 1,
   "metadata": {},
   "outputs": [],
   "source": [
    "import numpy as np\n",
    "import pandas as pd"
   ]
  },
  {
   "cell_type": "code",
   "execution_count": 2,
   "metadata": {},
   "outputs": [],
   "source": [
    "frame =pd.DataFrame(np.random.randn(4,3),\n",
    "                   columns=list('bde'),\n",
    "                   index =['Utah','Ohio','Texas','Oregon'])"
   ]
  },
  {
   "cell_type": "code",
   "execution_count": 3,
   "metadata": {},
   "outputs": [
    {
     "name": "stdout",
     "output_type": "stream",
     "text": [
      "               b         d         e\n",
      "Utah   -0.730216 -0.311808  1.196921\n",
      "Ohio    1.846302 -1.690940  0.918248\n",
      "Texas  -0.554232 -1.122002  0.797066\n",
      "Oregon  0.771272  0.192561  0.441432\n",
      "               b         d         e\n",
      "Utah    0.730216  0.311808  1.196921\n",
      "Ohio    1.846302  1.690940  0.918248\n",
      "Texas   0.554232  1.122002  0.797066\n",
      "Oregon  0.771272  0.192561  0.441432\n"
     ]
    }
   ],
   "source": [
    "print(frame)\n",
    "print(np.abs(frame))"
   ]
  },
  {
   "cell_type": "code",
   "execution_count": 5,
   "metadata": {},
   "outputs": [
    {
     "name": "stdout",
     "output_type": "stream",
     "text": [
      "-1.6909396028610644\n",
      "0.19256057676812963\n",
      "1.883500179629194\n"
     ]
    }
   ],
   "source": [
    "print(frame[\"d\"].min())\n",
    "print(frame[\"d\"].max())\n",
    "print(frame[\"d\"].max() - frame[\"d\"].min())"
   ]
  },
  {
   "cell_type": "code",
   "execution_count": 7,
   "metadata": {},
   "outputs": [
    {
     "name": "stdout",
     "output_type": "stream",
     "text": [
      "b    2.576518\n",
      "d    1.883500\n",
      "e    0.755489\n",
      "dtype: float64 <class 'pandas.core.series.Series'>\n",
      "Utah      1.927137\n",
      "Ohio      3.537242\n",
      "Texas     1.919068\n",
      "Oregon    0.578711\n",
      "dtype: float64\n"
     ]
    }
   ],
   "source": [
    "f = lambda x: x.max() - x.min()\n",
    "df = frame.apply(f)\n",
    "print(df,type(df))\n",
    "df = frame .apply(f,axis=1)\n",
    "print(df)"
   ]
  },
  {
   "cell_type": "code",
   "execution_count": 11,
   "metadata": {},
   "outputs": [
    {
     "name": "stdout",
     "output_type": "stream",
     "text": [
      "            b         d         e\n",
      "min -0.730216 -1.690940  0.441432\n",
      "max  1.846302  0.192561  1.196921 <class 'pandas.core.frame.DataFrame'>\n"
     ]
    }
   ],
   "source": [
    "def min_max(x):\n",
    "    minimum = x.min()\n",
    "    maximum = x.max()\n",
    "    return pd.Series( [x.min(),x.max() ],index = ['min','max'])\n",
    "df = frame.apply(min_max)\n",
    "print(df,type(df))"
   ]
  },
  {
   "cell_type": "code",
   "execution_count": 26,
   "metadata": {},
   "outputs": [],
   "source": [
    "frame =pd.DataFrame(np.arange(8).reshape((2,4)),\n",
    "                   columns=['d','a','b','c'],\n",
    "                   index =['three','one'])"
   ]
  },
  {
   "cell_type": "code",
   "execution_count": 27,
   "metadata": {},
   "outputs": [
    {
     "name": "stdout",
     "output_type": "stream",
     "text": [
      "       d  a  b  c\n",
      "three  0  1  2  3\n",
      "one    4  5  6  7\n",
      "\n",
      "       d  c  b  a\n",
      "three  0  3  2  1\n",
      "one    4  7  6  5\n",
      "\n",
      "       d  a  b  c\n",
      "one    4  5  6  7\n",
      "three  0  1  2  3\n"
     ]
    }
   ],
   "source": [
    "print(frame)\n",
    "print()\n",
    "print(frame.sort_index(axis=1, ascending = False)) # Default (axis=0, ascending = True\n",
    "print()\n",
    "print(frame.sort_index())"
   ]
  },
  {
   "cell_type": "code",
   "execution_count": 28,
   "metadata": {},
   "outputs": [
    {
     "name": "stdout",
     "output_type": "stream",
     "text": [
      "       d  a  b  c\n",
      "three  0  1  2  3\n",
      "one    4  5  6  7\n",
      "         d    a    b    c\n",
      "three  2.0  2.0  2.0  2.0\n",
      "one    1.0  1.0  1.0  1.0\n",
      "         d    a    b    c\n",
      "three  1.0  1.0  1.0  1.0\n",
      "one    2.0  2.0  2.0  2.0\n",
      "         d    a    b    c\n",
      "three  1.0  2.0  3.0  4.0\n",
      "one    1.0  2.0  3.0  4.0\n"
     ]
    }
   ],
   "source": [
    "print(frame.sort_values(by = 'b'))\n",
    "print(frame.rank(ascending= False,method = 'max'))\n",
    "print(frame.rank(ascending = True , method = 'min')) # Default (axis=0, ascending = True\n",
    "print(frame.rank(axis = 'columns' ))"
   ]
  },
  {
   "cell_type": "code",
   "execution_count": 30,
   "metadata": {},
   "outputs": [
    {
     "name": "stdout",
     "output_type": "stream",
     "text": [
      "    one  two\n",
      "a  1.40  NaN\n",
      "b  7.10 -4.5\n",
      "c   NaN  NaN\n",
      "d  0.75 -1.3\n",
      "\n",
      "<bound method DataFrame.sum of     one  two\n",
      "a  1.40  NaN\n",
      "b  7.10 -4.5\n",
      "c   NaN  NaN\n",
      "d  0.75 -1.3>\n",
      "\n",
      "a    1.40\n",
      "b    2.60\n",
      "c    0.00\n",
      "d   -0.55\n",
      "dtype: float64\n"
     ]
    }
   ],
   "source": [
    "df=pd.DataFrame([[1.4,np.nan],[7.1,-4.5],[np.nan,np.nan],[0.75,-1.3]],\n",
    "                   columns=['one','two'],\n",
    "                   index =['a','b','c','d'])\n",
    "print(df)\n",
    "print()\n",
    "print(df.sum)\n",
    "print()\n",
    "print(df.sum(axis='columns'))"
   ]
  },
  {
   "cell_type": "code",
   "execution_count": 33,
   "metadata": {},
   "outputs": [
    {
     "name": "stdout",
     "output_type": "stream",
     "text": [
      "    one  two\n",
      "a  1.40  NaN\n",
      "b  7.10 -4.5\n",
      "c   NaN  NaN\n",
      "d  0.75 -1.3\n",
      "\n",
      "a      NaN\n",
      "b    1.300\n",
      "c      NaN\n",
      "d   -0.275\n",
      "dtype: float64\n",
      "\n",
      "a    1.400\n",
      "b    1.300\n",
      "c      NaN\n",
      "d   -0.275\n",
      "dtype: float64\n"
     ]
    }
   ],
   "source": [
    "print(df)\n",
    "x = df.mean(axis='columns',skipna=False)\n",
    "y = df.mean(axis='columns',skipna=True)\n",
    "print()\n",
    "print(x)\n",
    "print()\n",
    "print(y)"
   ]
  },
  {
   "cell_type": "code",
   "execution_count": 42,
   "metadata": {},
   "outputs": [
    {
     "name": "stdout",
     "output_type": "stream",
     "text": [
      "    one  two  three  four\n",
      "a  1.40  1.4    1.5   NaN\n",
      "b  7.10 -4.5    1.5   1.4\n",
      "c  1.40  NaN    0.5   NaN\n",
      "d  0.75 -1.3    1.3   NaN\n",
      "\n",
      "[1.4  7.1  0.75] [1.5 0.5 1.3]\n",
      "1.40    2\n",
      "0.75    1\n",
      "7.10    1\n",
      "Name: one, dtype: int64\n",
      "1.5    2\n",
      "1.3    1\n",
      "0.5    1\n",
      "Name: three, dtype: int64\n"
     ]
    }
   ],
   "source": [
    "df = pd.DataFrame(\n",
    "    [[1.4,1.4,1.5,np.nan],\n",
    "    [7.1,-4.5,1.5,1.4],\n",
    "    [1.4,np.nan,0.5,np.nan],\n",
    "     [0.75,-1.3,1.3,np.nan]],\n",
    "    index=['a','b','c','d'], columns = ['one','two','three','four'])\n",
    "\n",
    "print(df)\n",
    "print()\n",
    "print(df['one'].unique(),df['three'].unique())\n",
    "print(df['one'].value_counts())\n",
    "print(df['three'].value_counts())"
   ]
  },
  {
   "cell_type": "code",
   "execution_count": null,
   "metadata": {},
   "outputs": [],
   "source": []
  }
 ],
 "metadata": {
  "kernelspec": {
   "display_name": "Python 3",
   "language": "python",
   "name": "python3"
  },
  "language_info": {
   "codemirror_mode": {
    "name": "ipython",
    "version": 3
   },
   "file_extension": ".py",
   "mimetype": "text/x-python",
   "name": "python",
   "nbconvert_exporter": "python",
   "pygments_lexer": "ipython3",
   "version": "3.7.6"
  }
 },
 "nbformat": 4,
 "nbformat_minor": 2
}
