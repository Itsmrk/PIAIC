{
 "cells": [
  {
   "cell_type": "markdown",
   "metadata": {},
   "source": [
    "## Deleting data (row or column from dataframe)"
   ]
  },
  {
   "cell_type": "code",
   "execution_count": 1,
   "metadata": {},
   "outputs": [],
   "source": [
    "import numpy as np\n",
    "import pandas as pd "
   ]
  },
  {
   "cell_type": "code",
   "execution_count": 4,
   "metadata": {},
   "outputs": [
    {
     "name": "stdout",
     "output_type": "stream",
     "text": [
      "          one  two  three  four\n",
      "Ohio        0    1      2     3\n",
      "Colorado    4    5      6     7\n",
      "Utah        8    9     10    11\n",
      "New York   12   13     14    15\n"
     ]
    }
   ],
   "source": [
    "data_df = pd.DataFrame(np.arange(16).reshape((4,4)),\n",
    "                      index = ['Ohio','Colorado','Utah','New York'],\n",
    "                      columns = ['one','two','three','four'])\n",
    "print(data_df)"
   ]
  },
  {
   "cell_type": "code",
   "execution_count": 6,
   "metadata": {},
   "outputs": [
    {
     "name": "stdout",
     "output_type": "stream",
     "text": [
      "          one  two  three  four\n",
      "Utah        8    9     10    11\n",
      "New York   12   13     14    15\n"
     ]
    }
   ],
   "source": [
    "data_df.drop(['Colorado','Ohio'], inplace = True)\n",
    "print(data_df)"
   ]
  },
  {
   "cell_type": "code",
   "execution_count": 7,
   "metadata": {},
   "outputs": [
    {
     "name": "stdout",
     "output_type": "stream",
     "text": [
      "          one  three  four\n",
      "Utah        8     10    11\n",
      "New York   12     14    15\n"
     ]
    }
   ],
   "source": [
    "data_df = data_df.drop('two',axis = 1)\n",
    "print(data_df)"
   ]
  },
  {
   "cell_type": "code",
   "execution_count": 8,
   "metadata": {},
   "outputs": [
    {
     "name": "stdout",
     "output_type": "stream",
     "text": [
      "          one  two  three  four\n",
      "Ohio        0    1      2     3\n",
      "Colorado    4    5      6     7\n",
      "Utah        8    9     10    11\n",
      "New York   12   13     14    15\n"
     ]
    }
   ],
   "source": [
    "data_df = pd.DataFrame(np.arange(16).reshape((4,4)),\n",
    "                      index = ['Ohio','Colorado','Utah','New York'],\n",
    "                      columns = ['one','two','three','four'])\n",
    "print(data_df)"
   ]
  },
  {
   "cell_type": "code",
   "execution_count": 9,
   "metadata": {},
   "outputs": [
    {
     "name": "stdout",
     "output_type": "stream",
     "text": [
      "          one  two  three  four\n",
      "Colorado    4    5      6     7\n",
      "Utah        8    9     10    11\n",
      "New York   12   13     14    15\n"
     ]
    }
   ],
   "source": [
    "data_df = data_df.drop('Ohio',axis = 0)\n",
    "print(data_df)"
   ]
  },
  {
   "cell_type": "code",
   "execution_count": 12,
   "metadata": {},
   "outputs": [
    {
     "name": "stdout",
     "output_type": "stream",
     "text": [
      "          one  two  three  four\n",
      "Ohio        0    1      2     3\n",
      "Colorado    4    5      6     7\n",
      "Utah        8    9     10    11\n",
      "New York   12   13     14    15\n",
      "-------------------------------------------------\n",
      "          one  two  three  four\n",
      "Colorado    4    5      6     7\n",
      "New York   12   13     14    15\n"
     ]
    }
   ],
   "source": [
    "data_df = pd.DataFrame(np.arange(16).reshape((4,4)),\n",
    "                      index = ['Ohio','Colorado','Utah','New York'],\n",
    "                      columns = ['one','two','three','four'])\n",
    "print(data_df)\n",
    "print(\"-------------------------------------------------\")\n",
    "data_df = data_df.drop(['Ohio','Utah'],axis =0)\n",
    "print(data_df)"
   ]
  },
  {
   "cell_type": "code",
   "execution_count": 13,
   "metadata": {},
   "outputs": [
    {
     "name": "stdout",
     "output_type": "stream",
     "text": [
      "          one  two  three  four\n",
      "Ohio        0    1      2     3\n",
      "Colorado    4    5      6     7\n",
      "Utah        8    9     10    11\n",
      "New York   12   13     14    15\n",
      "-------------------------------------------------\n",
      "          two  three\n",
      "Ohio        1      2\n",
      "Colorado    5      6\n",
      "Utah        9     10\n",
      "New York   13     14\n"
     ]
    }
   ],
   "source": [
    "data_df = pd.DataFrame(np.arange(16).reshape((4,4)),\n",
    "                      index = ['Ohio','Colorado','Utah','New York'],\n",
    "                      columns = ['one','two','three','four'])\n",
    "print(data_df)\n",
    "print(\"-------------------------------------------------\")\n",
    "data_df = data_df.drop(['one','four'],axis =1)\n",
    "print(data_df)"
   ]
  },
  {
   "cell_type": "code",
   "execution_count": null,
   "metadata": {},
   "outputs": [],
   "source": []
  }
 ],
 "metadata": {
  "kernelspec": {
   "display_name": "Python 3",
   "language": "python",
   "name": "python3"
  },
  "language_info": {
   "codemirror_mode": {
    "name": "ipython",
    "version": 3
   },
   "file_extension": ".py",
   "mimetype": "text/x-python",
   "name": "python",
   "nbconvert_exporter": "python",
   "pygments_lexer": "ipython3",
   "version": "3.7.6"
  }
 },
 "nbformat": 4,
 "nbformat_minor": 4
}
